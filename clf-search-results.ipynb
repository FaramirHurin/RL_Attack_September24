{
 "cells": [
  {
   "cell_type": "markdown",
   "metadata": {},
   "source": [
    "# Hyperparameter tuning results"
   ]
  },
  {
   "cell_type": "code",
   "execution_count": null,
   "metadata": {},
   "outputs": [
    {
     "name": "stdout",
     "output_type": "stream",
     "text": [
      "Best results:\n",
      "{'parameters': {'use_anomaly': False, 'n_trees': 200, 'balance_factor': 0.05, 'contamination': 0.001, 'training_duration': 12960000.0, 'quantiles_features': ['amount'], 'quantiles_values': [0.05, 0.95], 'rules': {'max_trx_hour': 5, 'max_trx_week': 20, 'max_trx_day': 10}}, 'accuracy': 0.990173293067965, 'f1_score': 0.5460106766700332, 'recall': 0.5895071344008973, 'precision': 0.5084918843383854, 'confusion_matrix': [[1575851, 9145], [6588, 9461]]}\n",
      "{'parameters': {'use_anomaly': False, 'n_trees': 100, 'balance_factor': 0.05, 'contamination': 0.005, 'training_duration': 12960000.0, 'quantiles_features': ['amount'], 'quantiles_values': [0.005, 0.995], 'rules': {'max_trx_hour': 6, 'max_trx_week': 40, 'max_trx_day': 15}}, 'accuracy': 0.9902113931838268, 'f1_score': 0.5460286194310874, 'recall': 0.5872640039877874, 'precision': 0.5102040816326531, 'confusion_matrix': [[1575948, 9048], [6624, 9425]]}\n",
      "{'parameters': {'use_anomaly': False, 'n_trees': 200, 'balance_factor': 0.05, 'contamination': 0.001, 'training_duration': 12960000.0, 'quantiles_features': ['amount'], 'quantiles_values': [0.005, 0.995], 'rules': {}}, 'accuracy': 0.9901595520425722, 'f1_score': 0.5460831484629347, 'recall': 0.5905040812511683, 'precision': 0.5078778135048232, 'confusion_matrix': [[1575813, 9183], [6572, 9477]]}\n",
      "{'parameters': {'use_anomaly': False, 'n_trees': 200, 'balance_factor': 0.05, 'contamination': 0.005, 'training_duration': 12960000.0, 'quantiles_features': ['amount'], 'quantiles_values': [0.01, 0.99], 'rules': {'max_trx_hour': 6, 'max_trx_week': 40, 'max_trx_day': 15}}, 'accuracy': 0.9901782898044714, 'f1_score': 0.5461105498628951, 'recall': 0.5894448252227553, 'precision': 0.508711550871155, 'confusion_matrix': [[1575860, 9136], [6589, 9460]]}\n",
      "{'parameters': {'use_anomaly': False, 'n_trees': 200, 'balance_factor': 0.05, 'contamination': 0.005, 'training_duration': 12960000.0, 'quantiles_features': ['amount'], 'quantiles_values': [0.005, 0.995], 'rules': {'max_trx_hour': 10, 'max_trx_week': 100, 'max_trx_day': 20}}, 'accuracy': 0.9901426880568629, 'f1_score': 0.546181274442144, 'recall': 0.591750264814007, 'precision': 0.5071287445933679, 'confusion_matrix': [[1575766, 9230], [6552, 9497]]}\n",
      "{'parameters': {'use_anomaly': False, 'n_trees': 200, 'balance_factor': 0.05, 'contamination': 0.005, 'training_duration': 12960000.0, 'quantiles_features': ['amount'], 'quantiles_values': [0.05, 0.95], 'rules': {'max_trx_hour': 6, 'max_trx_week': 40, 'max_trx_day': 15}}, 'accuracy': 0.9902557392203217, 'f1_score': 0.5465221056303229, 'recall': 0.5857685837123808, 'precision': 0.5122044241037376, 'confusion_matrix': [[1576043, 8953], [6648, 9401]]}\n",
      "{'parameters': {'use_anomaly': False, 'n_trees': 200, 'balance_factor': 0.05, 'contamination': 0.001, 'training_duration': 12960000.0, 'quantiles_features': ['amount'], 'quantiles_values': [0.005, 0.995], 'rules': {'max_trx_hour': 6, 'max_trx_week': 30, 'max_trx_day': 10}}, 'accuracy': 0.9901764160282815, 'f1_score': 0.5468479889362683, 'recall': 0.5913141005670135, 'precision': 0.5086017471461494, 'confusion_matrix': [[1575827, 9169], [6559, 9490]]}\n",
      "{'parameters': {'use_anomaly': False, 'n_trees': 200, 'balance_factor': 0.05, 'contamination': 0.005, 'training_duration': 12960000.0, 'quantiles_features': ['amount'], 'quantiles_values': [0.01, 0.99], 'rules': {}}, 'accuracy': 0.9902088948155736, 'f1_score': 0.5471196625642804, 'recall': 0.5900056078260327, 'precision': 0.5100457850794505, 'confusion_matrix': [[1575900, 9096], [6580, 9469]]}\n",
      "{'parameters': {'use_anomaly': False, 'n_trees': 200, 'balance_factor': 0.05, 'contamination': 0.001, 'training_duration': 12960000.0, 'quantiles_features': ['amount'], 'quantiles_values': [0.05, 0.95], 'rules': {'max_trx_hour': 6, 'max_trx_week': 40, 'max_trx_day': 15}}, 'accuracy': 0.9902170145123966, 'f1_score': 0.5479262273789939, 'recall': 0.5914387189232974, 'precision': 0.5103774599419293, 'confusion_matrix': [[1575890, 9106], [6557, 9492]]}\n",
      "{'parameters': {'use_anomaly': False, 'n_trees': 200, 'balance_factor': 0.05, 'contamination': 0.005, 'training_duration': 12960000.0, 'quantiles_features': ['amount'], 'quantiles_values': [0.005, 0.995], 'rules': {'max_trx_hour': 5, 'max_trx_week': 20, 'max_trx_day': 10}}, 'accuracy': 0.9902869688234872, 'f1_score': 0.549572773352643, 'recall': 0.5911271730325877, 'precision': 0.5134769430612687, 'confusion_matrix': [[1576007, 8989], [6562, 9487]]}\n",
      "Best results with anomaly:\n",
      "{'parameters': {'use_anomaly': True, 'n_trees': 100, 'balance_factor': 0.05, 'contamination': 0.001, 'training_duration': 12960000.0, 'quantiles_features': ['amount'], 'quantiles_values': [0.005, 0.995], 'rules': {'max_trx_hour': 6, 'max_trx_week': 40, 'max_trx_day': 15}}, 'accuracy': 0.9891121111524036, 'f1_score': 0.5177869986168742, 'recall': 0.5831515982304193, 'precision': 0.46559872643152084, 'confusion_matrix': [[1574254, 10742], [6690, 9359]]}\n",
      "{'parameters': {'use_anomaly': True, 'n_trees': 200, 'balance_factor': 0.05, 'contamination': 0.001, 'training_duration': 12960000.0, 'quantiles_features': ['amount'], 'quantiles_values': [0.05, 0.95], 'rules': {'max_trx_hour': 10, 'max_trx_week': 100, 'max_trx_day': 20}}, 'accuracy': 0.9891333472825561, 'f1_score': 0.519126589275843, 'recall': 0.5851454919309614, 'precision': 0.466494461278625, 'confusion_matrix': [[1574256, 10740], [6658, 9391]]}\n",
      "{'parameters': {'use_anomaly': True, 'n_trees': 200, 'balance_factor': 0.05, 'contamination': 0.001, 'training_duration': 12960000.0, 'quantiles_features': ['amount'], 'quantiles_values': [0.005, 0.995], 'rules': {'max_trx_hour': 5, 'max_trx_week': 20, 'max_trx_day': 10}}, 'accuracy': 0.9891483374920755, 'f1_score': 0.5202407908543657, 'recall': 0.5869524580970777, 'precision': 0.46714604512769653, 'confusion_matrix': [[1574251, 10745], [6629, 9420]]}\n",
      "{'parameters': {'use_anomaly': True, 'n_trees': 100, 'balance_factor': 0.05, 'contamination': 0.001, 'training_duration': 12960000.0, 'quantiles_features': ['amount'], 'quantiles_values': [0.05, 0.95], 'rules': {'max_trx_hour': 6, 'max_trx_week': 40, 'max_trx_day': 15}}, 'accuracy': 0.9890908750222511, 'f1_score': 0.5203229704493024, 'recall': 0.5902548445386006, 'precision': 0.46520650198890146, 'confusion_matrix': [[1574106, 10890], [6576, 9473]]}\n",
      "{'parameters': {'use_anomaly': True, 'n_trees': 100, 'balance_factor': 0.05, 'contamination': 0.001, 'training_duration': 12960000.0, 'quantiles_features': ['amount'], 'quantiles_values': [0.01, 0.99], 'rules': {'max_trx_hour': 6, 'max_trx_week': 40, 'max_trx_day': 15}}, 'accuracy': 0.9890908750222511, 'f1_score': 0.5203229704493024, 'recall': 0.5902548445386006, 'precision': 0.46520650198890146, 'confusion_matrix': [[1574106, 10890], [6576, 9473]]}\n",
      "{'parameters': {'use_anomaly': True, 'n_trees': 200, 'balance_factor': 0.05, 'contamination': 0.001, 'training_duration': 12960000.0, 'quantiles_features': ['amount'], 'quantiles_values': [0.005, 0.995], 'rules': {}}, 'accuracy': 0.9891901851603172, 'f1_score': 0.5216285690593991, 'recall': 0.5879494049473487, 'precision': 0.4687531048186786, 'confusion_matrix': [[1574302, 10694], [6613, 9436]]}\n",
      "{'parameters': {'use_anomaly': True, 'n_trees': 200, 'balance_factor': 0.05, 'contamination': 0.001, 'training_duration': 12960000.0, 'quantiles_features': ['amount'], 'quantiles_values': [0.01, 0.99], 'rules': {}}, 'accuracy': 0.9891901851603172, 'f1_score': 0.5216285690593991, 'recall': 0.5879494049473487, 'precision': 0.4687531048186786, 'confusion_matrix': [[1574302, 10694], [6613, 9436]]}\n",
      "{'parameters': {'use_anomaly': True, 'n_trees': 200, 'balance_factor': 0.05, 'contamination': 0.001, 'training_duration': 12960000.0, 'quantiles_features': ['amount'], 'quantiles_values': [0.01, 0.99], 'rules': {'max_trx_hour': 6, 'max_trx_week': 40, 'max_trx_day': 15}}, 'accuracy': 0.9891064898238338, 'f1_score': 0.5221251061731101, 'recall': 0.5936818493364072, 'precision': 0.465962441314554, 'confusion_matrix': [[1574076, 10920], [6521, 9528]]}\n",
      "{'parameters': {'use_anomaly': True, 'n_trees': 200, 'balance_factor': 0.05, 'contamination': 0.001, 'training_duration': 12960000.0, 'quantiles_features': ['amount'], 'quantiles_values': [0.005, 0.995], 'rules': {'max_trx_hour': 6, 'max_trx_week': 30, 'max_trx_day': 10}}, 'accuracy': 0.9892782526412437, 'f1_score': 0.5258011049723756, 'recall': 0.592996448376846, 'precision': 0.47228425388318196, 'confusion_matrix': [[1574362, 10634], [6532, 9517]]}\n",
      "{'parameters': {'use_anomaly': True, 'n_trees': 200, 'balance_factor': 0.05, 'contamination': 0.001, 'training_duration': 12960000.0, 'quantiles_features': ['amount'], 'quantiles_values': [0.01, 0.99], 'rules': {'max_trx_hour': 6, 'max_trx_week': 30, 'max_trx_day': 10}}, 'accuracy': 0.9892782526412437, 'f1_score': 0.5258011049723756, 'recall': 0.592996448376846, 'precision': 0.47228425388318196, 'confusion_matrix': [[1574362, 10634], [6532, 9517]]}\n"
     ]
    }
   ],
   "source": [
    "import matplotlib.pyplot as plt\n",
    "import orjson\n",
    "import os\n",
    "\n",
    "results = []\n",
    "\n",
    "for file in os.listdir(\"fine-tuning-results\"):\n",
    "    if not file.endswith(\".json\"):\n",
    "        continue\n",
    "    with open(os.path.join(\"fine-tuning-results\", file), \"rb\") as f:\n",
    "        data = orjson.loads(f.read())\n",
    "    results.append(data)\n",
    "    \n",
    "results.sort(key=lambda x: x[\"f1_score\"])\n",
    "print(\"Best results:\")\n",
    "for r in results[-10:]:\n",
    "    print(r)\n",
    "\n",
    "print(\"Worst results:\")\n",
    "for r in results[:10]:\n",
    "    print(r)\n",
    "\n",
    "\n",
    "with_anomaly = [r for r in results if r[\"parameters\"][\"use_anomaly\"]]\n",
    "print(\"Best results with anomaly:\")\n",
    "for r in with_anomaly[-10:]:\n",
    "    print(r)"
   ]
  }
 ],
 "metadata": {
  "kernelspec": {
   "display_name": ".venv",
   "language": "python",
   "name": "python3"
  },
  "language_info": {
   "codemirror_mode": {
    "name": "ipython",
    "version": 3
   },
   "file_extension": ".py",
   "mimetype": "text/x-python",
   "name": "python",
   "nbconvert_exporter": "python",
   "pygments_lexer": "ipython3",
   "version": "3.12.4"
  }
 },
 "nbformat": 4,
 "nbformat_minor": 4
}
