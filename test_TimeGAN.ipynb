{
 "cells": [
  {
   "cell_type": "code",
   "execution_count": 1,
   "metadata": {
    "ExecuteTime": {
     "end_time": "2025-04-21T13:33:48.390772Z",
     "start_time": "2025-04-21T13:33:48.345363Z"
    }
   },
   "outputs": [],
   "source": [
    "import unittest\n",
    "\n",
    "import pandas as pd\n",
    "import numpy as np\n",
    "from CardSim.Generator.cardsim import Cardsim as Cardsim\n",
    "from banksys.card import Card\n",
    "from banksys.terminal import Terminal\n",
    "from banksys.transaction import Transaction\n",
    "from banksys.banksys import Banksys\n",
    "from banksys.classification import ClassificationSystem\n",
    "from imblearn.ensemble import BalancedRandomForestClassifier\n",
    "from sklearn.ensemble import RandomForestClassifier\n",
    "\n",
    "# This is a test file for the Banksys system."
   ]
  },
  {
   "cell_type": "code",
   "execution_count": 2,
   "metadata": {
    "ExecuteTime": {
     "end_time": "2025-04-21T13:33:50.404933Z",
     "start_time": "2025-04-21T13:33:48.358771Z"
    },
    "collapsed": false,
    "jupyter": {
     "outputs_hidden": false
    }
   },
   "outputs": [
    {
     "name": "stderr",
     "output_type": "stream",
     "text": [
      "C:\\Users\\dalun\\PycharmProjects\\RL_Attack_September24\\venv\\lib\\site-packages\\sklearn\\base.py:380: InconsistentVersionWarning: Trying to unpickle estimator DecisionTreeClassifier from version 1.5.2 when using version 1.6.1. This might lead to breaking code or invalid results. Use at your own risk. For more info please refer to:\n",
      "https://scikit-learn.org/stable/model_persistence.html#security-maintainability-limitations\n",
      "  warnings.warn(\n",
      "C:\\Users\\dalun\\PycharmProjects\\RL_Attack_September24\\venv\\lib\\site-packages\\sklearn\\base.py:380: InconsistentVersionWarning: Trying to unpickle estimator RandomForestClassifier from version 1.5.2 when using version 1.6.1. This might lead to breaking code or invalid results. Use at your own risk. For more info please refer to:\n",
      "https://scikit-learn.org/stable/model_persistence.html#security-maintainability-limitations\n",
      "  warnings.warn(\n"
     ]
    }
   ],
   "source": [
    "import pickle\n",
    "\n",
    "banksys = pickle.load(open(\"cache/banksys.pkl\", \"rb\"))\n",
    "payers = pd.read_csv(\"cache/payers-10000.csv\")\n",
    "payees = pd.read_csv(\"cache/payees-10000.csv\")\n",
    "transactions = pd.read_csv(\"cache/transactions-10000-50-2023-01-01.csv\")\n"
   ]
  },
  {
   "cell_type": "code",
   "execution_count": 3,
   "metadata": {
    "ExecuteTime": {
     "end_time": "2025-04-21T13:33:50.420803Z",
     "start_time": "2025-04-21T13:33:50.406245Z"
    },
    "collapsed": false,
    "jupyter": {
     "outputs_hidden": false
    }
   },
   "outputs": [
    {
     "data": {
      "text/html": [
       "<div>\n",
       "<style scoped>\n",
       "    .dataframe tbody tr th:only-of-type {\n",
       "        vertical-align: middle;\n",
       "    }\n",
       "\n",
       "    .dataframe tbody tr th {\n",
       "        vertical-align: top;\n",
       "    }\n",
       "\n",
       "    .dataframe thead th {\n",
       "        text-align: right;\n",
       "    }\n",
       "</style>\n",
       "<table border=\"1\" class=\"dataframe\">\n",
       "  <thead>\n",
       "    <tr style=\"text-align: right;\">\n",
       "      <th></th>\n",
       "      <th>day_index</th>\n",
       "      <th>date</th>\n",
       "      <th>payer_id</th>\n",
       "      <th>credit_card</th>\n",
       "      <th>remote</th>\n",
       "      <th>amount</th>\n",
       "      <th>payee_id</th>\n",
       "      <th>distance</th>\n",
       "      <th>time_seconds</th>\n",
       "      <th>date_time</th>\n",
       "      <th>hour</th>\n",
       "      <th>fraud</th>\n",
       "      <th>run_id</th>\n",
       "    </tr>\n",
       "  </thead>\n",
       "  <tbody>\n",
       "    <tr>\n",
       "      <th>0</th>\n",
       "      <td>0</td>\n",
       "      <td>2023-01-01</td>\n",
       "      <td>0</td>\n",
       "      <td>0</td>\n",
       "      <td>1</td>\n",
       "      <td>26.49</td>\n",
       "      <td>552</td>\n",
       "      <td>96.896850</td>\n",
       "      <td>42526</td>\n",
       "      <td>2023-01-01 11:48:46</td>\n",
       "      <td>11</td>\n",
       "      <td>0</td>\n",
       "      <td>SNoneP10000D50</td>\n",
       "    </tr>\n",
       "    <tr>\n",
       "      <th>1</th>\n",
       "      <td>0</td>\n",
       "      <td>2023-01-01</td>\n",
       "      <td>0</td>\n",
       "      <td>0</td>\n",
       "      <td>0</td>\n",
       "      <td>17.50</td>\n",
       "      <td>245</td>\n",
       "      <td>96.772930</td>\n",
       "      <td>43480</td>\n",
       "      <td>2023-01-01 12:04:40</td>\n",
       "      <td>12</td>\n",
       "      <td>0</td>\n",
       "      <td>SNoneP10000D50</td>\n",
       "    </tr>\n",
       "    <tr>\n",
       "      <th>2</th>\n",
       "      <td>0</td>\n",
       "      <td>2023-01-01</td>\n",
       "      <td>1</td>\n",
       "      <td>0</td>\n",
       "      <td>0</td>\n",
       "      <td>15.85</td>\n",
       "      <td>113</td>\n",
       "      <td>62.769420</td>\n",
       "      <td>42958</td>\n",
       "      <td>2023-01-01 11:55:58</td>\n",
       "      <td>11</td>\n",
       "      <td>0</td>\n",
       "      <td>SNoneP10000D50</td>\n",
       "    </tr>\n",
       "    <tr>\n",
       "      <th>3</th>\n",
       "      <td>0</td>\n",
       "      <td>2023-01-01</td>\n",
       "      <td>3</td>\n",
       "      <td>0</td>\n",
       "      <td>0</td>\n",
       "      <td>7.97</td>\n",
       "      <td>475</td>\n",
       "      <td>68.476270</td>\n",
       "      <td>32372</td>\n",
       "      <td>2023-01-01 08:59:32</td>\n",
       "      <td>8</td>\n",
       "      <td>0</td>\n",
       "      <td>SNoneP10000D50</td>\n",
       "    </tr>\n",
       "    <tr>\n",
       "      <th>4</th>\n",
       "      <td>0</td>\n",
       "      <td>2023-01-01</td>\n",
       "      <td>4</td>\n",
       "      <td>0</td>\n",
       "      <td>0</td>\n",
       "      <td>11.12</td>\n",
       "      <td>188</td>\n",
       "      <td>46.238514</td>\n",
       "      <td>62304</td>\n",
       "      <td>2023-01-01 17:18:24</td>\n",
       "      <td>17</td>\n",
       "      <td>0</td>\n",
       "      <td>SNoneP10000D50</td>\n",
       "    </tr>\n",
       "    <tr>\n",
       "      <th>...</th>\n",
       "      <td>...</td>\n",
       "      <td>...</td>\n",
       "      <td>...</td>\n",
       "      <td>...</td>\n",
       "      <td>...</td>\n",
       "      <td>...</td>\n",
       "      <td>...</td>\n",
       "      <td>...</td>\n",
       "      <td>...</td>\n",
       "      <td>...</td>\n",
       "      <td>...</td>\n",
       "      <td>...</td>\n",
       "      <td>...</td>\n",
       "    </tr>\n",
       "    <tr>\n",
       "      <th>429834</th>\n",
       "      <td>49</td>\n",
       "      <td>2023-02-19</td>\n",
       "      <td>9984</td>\n",
       "      <td>1</td>\n",
       "      <td>0</td>\n",
       "      <td>6.12</td>\n",
       "      <td>518</td>\n",
       "      <td>126.019840</td>\n",
       "      <td>45943</td>\n",
       "      <td>2023-02-19 12:45:43</td>\n",
       "      <td>12</td>\n",
       "      <td>0</td>\n",
       "      <td>SNoneP10000D50</td>\n",
       "    </tr>\n",
       "    <tr>\n",
       "      <th>429835</th>\n",
       "      <td>49</td>\n",
       "      <td>2023-02-19</td>\n",
       "      <td>9985</td>\n",
       "      <td>0</td>\n",
       "      <td>0</td>\n",
       "      <td>18.47</td>\n",
       "      <td>988</td>\n",
       "      <td>61.000000</td>\n",
       "      <td>70912</td>\n",
       "      <td>2023-02-19 19:41:52</td>\n",
       "      <td>19</td>\n",
       "      <td>0</td>\n",
       "      <td>SNoneP10000D50</td>\n",
       "    </tr>\n",
       "    <tr>\n",
       "      <th>429836</th>\n",
       "      <td>49</td>\n",
       "      <td>2023-02-19</td>\n",
       "      <td>9985</td>\n",
       "      <td>0</td>\n",
       "      <td>0</td>\n",
       "      <td>39.45</td>\n",
       "      <td>901</td>\n",
       "      <td>103.368270</td>\n",
       "      <td>56644</td>\n",
       "      <td>2023-02-19 15:44:04</td>\n",
       "      <td>15</td>\n",
       "      <td>0</td>\n",
       "      <td>SNoneP10000D50</td>\n",
       "    </tr>\n",
       "    <tr>\n",
       "      <th>429837</th>\n",
       "      <td>49</td>\n",
       "      <td>2023-02-19</td>\n",
       "      <td>9991</td>\n",
       "      <td>0</td>\n",
       "      <td>0</td>\n",
       "      <td>5.69</td>\n",
       "      <td>744</td>\n",
       "      <td>105.118980</td>\n",
       "      <td>41133</td>\n",
       "      <td>2023-02-19 11:25:33</td>\n",
       "      <td>11</td>\n",
       "      <td>0</td>\n",
       "      <td>SNoneP10000D50</td>\n",
       "    </tr>\n",
       "    <tr>\n",
       "      <th>429838</th>\n",
       "      <td>49</td>\n",
       "      <td>2023-02-19</td>\n",
       "      <td>9995</td>\n",
       "      <td>0</td>\n",
       "      <td>0</td>\n",
       "      <td>1.39</td>\n",
       "      <td>455</td>\n",
       "      <td>60.926186</td>\n",
       "      <td>70810</td>\n",
       "      <td>2023-02-19 19:40:10</td>\n",
       "      <td>19</td>\n",
       "      <td>0</td>\n",
       "      <td>SNoneP10000D50</td>\n",
       "    </tr>\n",
       "  </tbody>\n",
       "</table>\n",
       "<p>429839 rows × 13 columns</p>\n",
       "</div>"
      ],
      "text/plain": [
       "        day_index        date  payer_id  credit_card  remote  amount  \\\n",
       "0               0  2023-01-01         0            0       1   26.49   \n",
       "1               0  2023-01-01         0            0       0   17.50   \n",
       "2               0  2023-01-01         1            0       0   15.85   \n",
       "3               0  2023-01-01         3            0       0    7.97   \n",
       "4               0  2023-01-01         4            0       0   11.12   \n",
       "...           ...         ...       ...          ...     ...     ...   \n",
       "429834         49  2023-02-19      9984            1       0    6.12   \n",
       "429835         49  2023-02-19      9985            0       0   18.47   \n",
       "429836         49  2023-02-19      9985            0       0   39.45   \n",
       "429837         49  2023-02-19      9991            0       0    5.69   \n",
       "429838         49  2023-02-19      9995            0       0    1.39   \n",
       "\n",
       "        payee_id    distance  time_seconds            date_time  hour  fraud  \\\n",
       "0            552   96.896850         42526  2023-01-01 11:48:46    11      0   \n",
       "1            245   96.772930         43480  2023-01-01 12:04:40    12      0   \n",
       "2            113   62.769420         42958  2023-01-01 11:55:58    11      0   \n",
       "3            475   68.476270         32372  2023-01-01 08:59:32     8      0   \n",
       "4            188   46.238514         62304  2023-01-01 17:18:24    17      0   \n",
       "...          ...         ...           ...                  ...   ...    ...   \n",
       "429834       518  126.019840         45943  2023-02-19 12:45:43    12      0   \n",
       "429835       988   61.000000         70912  2023-02-19 19:41:52    19      0   \n",
       "429836       901  103.368270         56644  2023-02-19 15:44:04    15      0   \n",
       "429837       744  105.118980         41133  2023-02-19 11:25:33    11      0   \n",
       "429838       455   60.926186         70810  2023-02-19 19:40:10    19      0   \n",
       "\n",
       "                run_id  \n",
       "0       SNoneP10000D50  \n",
       "1       SNoneP10000D50  \n",
       "2       SNoneP10000D50  \n",
       "3       SNoneP10000D50  \n",
       "4       SNoneP10000D50  \n",
       "...                ...  \n",
       "429834  SNoneP10000D50  \n",
       "429835  SNoneP10000D50  \n",
       "429836  SNoneP10000D50  \n",
       "429837  SNoneP10000D50  \n",
       "429838  SNoneP10000D50  \n",
       "\n",
       "[429839 rows x 13 columns]"
      ]
     },
     "execution_count": 3,
     "metadata": {},
     "output_type": "execute_result"
    }
   ],
   "source": [
    "transactions"
   ]
  },
  {
   "cell_type": "code",
   "execution_count": 4,
   "metadata": {
    "ExecuteTime": {
     "end_time": "2025-04-21T13:33:50.455276Z",
     "start_time": "2025-04-21T13:33:50.421806Z"
    },
    "collapsed": false,
    "jupyter": {
     "outputs_hidden": false
    }
   },
   "outputs": [
    {
     "data": {
      "text/plain": [
       "(1000, 539)"
      ]
     },
     "execution_count": 4,
     "metadata": {},
     "output_type": "execute_result"
    }
   ],
   "source": [
    "len(banksys.terminals),  len(banksys.terminals[0].transactions)"
   ]
  },
  {
   "cell_type": "code",
   "execution_count": 5,
   "metadata": {
    "ExecuteTime": {
     "end_time": "2025-04-21T13:33:50.501806Z",
     "start_time": "2025-04-21T13:33:50.438063Z"
    },
    "collapsed": false,
    "jupyter": {
     "outputs_hidden": false
    }
   },
   "outputs": [
    {
     "data": {
      "text/plain": [
       "[Transaction(amount=20.74, timestamp=datetime.datetime(2023, 1, 19, 8, 58, 46), terminal_id=0, is_online=0, card_id=6197, label=0)]"
      ]
     },
     "execution_count": 5,
     "metadata": {},
     "output_type": "execute_result"
    }
   ],
   "source": [
    "[trx for trx in  banksys.terminals[0].transactions if trx.card_id==6197]"
   ]
  },
  {
   "cell_type": "code",
   "execution_count": 6,
   "metadata": {
    "ExecuteTime": {
     "end_time": "2025-04-21T13:33:50.511807Z",
     "start_time": "2025-04-21T13:33:50.451532Z"
    },
    "collapsed": false,
    "jupyter": {
     "outputs_hidden": false
    }
   },
   "outputs": [
    {
     "data": {
      "text/plain": [
       "Transaction(amount=20.74, timestamp=datetime.datetime(2023, 1, 19, 8, 58, 46), terminal_id=0, is_online=0, card_id=6197, label=0)"
      ]
     },
     "execution_count": 6,
     "metadata": {},
     "output_type": "execute_result"
    }
   ],
   "source": [
    "banksys.terminals[0].transactions[200]"
   ]
  },
  {
   "cell_type": "code",
   "execution_count": 7,
   "metadata": {
    "ExecuteTime": {
     "end_time": "2025-04-21T13:33:50.571606Z",
     "start_time": "2025-04-21T13:33:50.466277Z"
    },
    "collapsed": false,
    "jupyter": {
     "outputs_hidden": false
    }
   },
   "outputs": [
    {
     "data": {
      "text/plain": [
       "UniqueCountsResult(values=array([  12,   20,   96,  109,  120,  141,  178,  200,  245,  271,  278,\n",
       "        311,  323,  325,  333,  370,  374,  380,  413,  448,  482,  487,\n",
       "        499,  559,  569,  575,  580,  582,  669,  686,  764,  802,  936,\n",
       "        954,  974, 1056, 1079, 1080, 1131, 1135, 1191, 1227, 1231, 1252,\n",
       "       1277, 1316, 1332, 1335, 1369, 1393, 1453, 1457, 1555, 1580, 1610,\n",
       "       1616, 1666, 1680, 1720, 1777, 1800, 1840, 1852, 1854, 1855, 1915,\n",
       "       1935, 1942, 1986, 2014, 2055, 2059, 2157, 2196, 2210, 2298, 2309,\n",
       "       2315, 2387, 2434, 2509, 2512, 2539, 2566, 2592, 2610, 2641, 2792,\n",
       "       2797, 2828, 2952, 3017, 3061, 3125, 3155, 3161, 3172, 3203, 3277,\n",
       "       3294, 3296, 3312, 3360, 3434, 3457, 3494, 3510, 3511, 3539, 3567,\n",
       "       3573, 3580, 3592, 3628, 3635, 3676, 3686, 3730, 3734, 3744, 3758,\n",
       "       3789, 3809, 3815, 3890, 3922, 3923, 3943, 3985, 4003, 4029, 4106,\n",
       "       4109, 4167, 4178, 4181, 4236, 4254, 4278, 4285, 4290, 4338, 4427,\n",
       "       4466, 4574, 4587, 4663, 4687, 4711, 4721, 4731, 4757, 4771, 4807,\n",
       "       4823, 4831, 4834, 4841, 4933, 4982, 4998, 5007, 5021, 5023, 5027,\n",
       "       5039, 5051, 5091, 5099, 5130, 5166, 5188, 5207, 5209, 5295, 5302,\n",
       "       5363, 5364, 5385, 5422, 5453, 5484, 5505, 5507, 5508, 5577, 5616,\n",
       "       5629, 5632, 5640, 5660, 5688, 5703, 5787, 5826, 5850, 5866, 5884,\n",
       "       5937, 5949, 5970, 5987, 6026, 6033, 6036, 6049, 6069, 6071, 6081,\n",
       "       6086, 6150, 6163, 6172, 6194, 6200, 6221, 6263, 6288, 6296, 6304,\n",
       "       6307, 6332, 6361, 6435, 6446, 6493, 6510, 6534, 6545, 6550, 6615,\n",
       "       6623, 6633, 6703, 6733, 6744, 6752, 6764, 6765, 6775, 6817, 6824,\n",
       "       6846, 6853, 6874, 6894, 6964, 6983, 7004, 7031, 7040, 7076, 7080,\n",
       "       7155, 7168, 7183, 7185, 7192, 7219, 7220, 7221, 7253, 7265, 7266,\n",
       "       7269, 7280, 7289, 7330, 7337, 7435, 7440, 7521, 7530, 7565, 7575,\n",
       "       7586, 7605, 7606, 7608, 7639, 7695, 7717, 7761, 7798, 7801, 7845,\n",
       "       7911, 7950, 7976, 7978, 7994, 7996, 8054, 8074, 8078, 8089, 8114,\n",
       "       8154, 8181, 8191, 8197, 8240, 8251, 8254, 8322, 8338, 8373, 8432,\n",
       "       8545, 8572, 8662, 8699, 8717, 8744, 8754, 8819, 8840, 8880, 8890,\n",
       "       8941, 8942, 9011, 9061, 9068, 9069, 9105, 9179, 9185, 9213, 9229,\n",
       "       9258, 9265, 9274, 9301, 9309, 9375, 9387, 9395, 9406, 9425, 9475,\n",
       "       9493, 9521, 9534, 9543, 9549, 9569, 9596, 9673, 9694, 9774, 9803,\n",
       "       9854, 9913, 9924, 9946, 9951, 9966]), counts=array([1, 1, 1, 1, 1, 1, 1, 1, 1, 1, 1, 1, 2, 1, 1, 1, 1, 1, 1, 1, 1, 1,\n",
       "       1, 1, 1, 1, 1, 1, 1, 1, 1, 1, 1, 1, 1, 1, 1, 1, 1, 2, 1, 1, 1, 1,\n",
       "       1, 1, 1, 1, 1, 1, 1, 1, 1, 1, 1, 1, 1, 1, 1, 1, 1, 1, 1, 1, 1, 1,\n",
       "       1, 1, 1, 1, 1, 1, 1, 1, 1, 1, 1, 1, 1, 1, 1, 1, 1, 1, 1, 1, 1, 1,\n",
       "       1, 1, 1, 1, 1, 1, 1, 1, 1, 1, 1, 1, 1, 1, 1, 1, 1, 1, 1, 1, 1, 1,\n",
       "       1, 1, 1, 1, 1, 1, 1, 1, 1, 1, 1, 1, 1, 1, 1, 1, 1, 1, 1, 1, 1, 1,\n",
       "       1, 1, 1, 1, 1, 1, 1, 1, 1, 2, 1, 1, 1, 1, 1, 2, 1, 1, 1, 1, 1, 1,\n",
       "       1, 1, 1, 1, 1, 1, 1, 1, 1, 1, 1, 1, 1, 1, 1, 1, 1, 1, 1, 1, 1, 1,\n",
       "       1, 1, 1, 1, 1, 1, 1, 1, 1, 1, 1, 1, 1, 1, 1, 1, 1, 1, 1, 1, 1, 1,\n",
       "       1, 1, 1, 1, 1, 1, 1, 1, 1, 1, 1, 1, 1, 1, 1, 1, 1, 1, 1, 1, 1, 1,\n",
       "       2, 1, 1, 1, 1, 1, 1, 1, 1, 2, 1, 1, 1, 1, 1, 1, 1, 1, 1, 1, 1, 1,\n",
       "       1, 1, 1, 1, 1, 1, 1, 1, 1, 1, 1, 1, 1, 1, 1, 1, 1, 1, 1, 1, 1, 1,\n",
       "       1, 1, 1, 1, 1, 1, 1, 1, 1, 1, 2, 1, 1, 1, 1, 1, 1, 1, 1, 1, 1, 1,\n",
       "       1, 1, 1, 1, 1, 1, 1, 1, 1, 1, 1, 1, 1, 1, 1, 1, 1, 1, 1, 1, 1, 1,\n",
       "       2, 1, 1, 1, 1, 1, 1, 1, 1, 1, 1, 1, 1, 1, 1, 1, 1, 1, 1, 1, 1, 1,\n",
       "       1, 1, 1, 1, 1, 1, 1, 1, 1, 1, 1, 1, 1, 1, 1, 1, 1, 2, 1, 1, 1, 1,\n",
       "       1, 1, 1, 1, 1, 1]))"
      ]
     },
     "execution_count": 7,
     "metadata": {},
     "output_type": "execute_result"
    }
   ],
   "source": [
    "np.unique_counts([trx.card_id for trx in  banksys.terminals[400].transactions])\n"
   ]
  },
  {
   "cell_type": "code",
   "execution_count": 8,
   "metadata": {
    "ExecuteTime": {
     "end_time": "2025-04-21T13:33:50.582985Z",
     "start_time": "2025-04-21T13:33:50.484595Z"
    },
    "collapsed": false,
    "jupyter": {
     "outputs_hidden": false
    }
   },
   "outputs": [
    {
     "data": {
      "text/plain": [
       "UniqueCountsResult(values=array([0, 1]), counts=array([360,   7]))"
      ]
     },
     "execution_count": 8,
     "metadata": {},
     "output_type": "execute_result"
    }
   ],
   "source": [
    "np.unique_counts([trx.label for trx in  banksys.terminals[400].transactions])"
   ]
  },
  {
   "cell_type": "markdown",
   "metadata": {
    "collapsed": false,
    "jupyter": {
     "outputs_hidden": false
    }
   },
   "source": [
    "## Transactions grouping\n"
   ]
  },
  {
   "cell_type": "code",
   "execution_count": 9,
   "metadata": {
    "ExecuteTime": {
     "end_time": "2025-04-21T13:33:50.582985Z",
     "start_time": "2025-04-21T13:33:50.498349Z"
    },
    "collapsed": false,
    "jupyter": {
     "outputs_hidden": false
    }
   },
   "outputs": [
    {
     "data": {
      "text/plain": [
       "(Index(['payee_id', 'payee_x', 'payee_y'], dtype='object'),\n",
       " Index(['payer_id', 'payer_x', 'payer_y', 'mean_frequency', 'debit_mean',\n",
       "        'debit_sd', 'credit_mean', 'credit_sd', 'debit_mean_fraud',\n",
       "        'credit_mean_fraud', 'debit_ln_mu', 'credit_ln_mu', 'debit_ln_sd',\n",
       "        'credit_ln_sd', 'debit_ln_mu_fraud', 'credit_ln_mu_fraud'],\n",
       "       dtype='object'),\n",
       " Index(['day_index', 'date', 'payer_id', 'credit_card', 'remote', 'amount',\n",
       "        'payee_id', 'distance', 'time_seconds', 'date_time', 'hour', 'fraud',\n",
       "        'run_id'],\n",
       "       dtype='object'))"
      ]
     },
     "execution_count": 9,
     "metadata": {},
     "output_type": "execute_result"
    }
   ],
   "source": [
    "payees.columns, payers.columns, transactions.columns"
   ]
  },
  {
   "cell_type": "code",
   "execution_count": 10,
   "metadata": {
    "ExecuteTime": {
     "end_time": "2025-04-21T13:33:50.583987Z",
     "start_time": "2025-04-21T13:33:50.513276Z"
    },
    "collapsed": false,
    "jupyter": {
     "outputs_hidden": false
    }
   },
   "outputs": [],
   "source": [
    "## Case 1: Unknown payer X"
   ]
  },
  {
   "cell_type": "code",
   "execution_count": 11,
   "metadata": {
    "ExecuteTime": {
     "end_time": "2025-04-21T13:33:50.666167Z",
     "start_time": "2025-04-21T13:33:50.528352Z"
    },
    "collapsed": false,
    "jupyter": {
     "outputs_hidden": false
    }
   },
   "outputs": [],
   "source": [
    "# Join payees and transactions\n",
    "payees_transactions = pd.merge(payees, transactions, left_on=\"payee_id\", right_on=\"payee_id\")"
   ]
  },
  {
   "cell_type": "code",
   "execution_count": 12,
   "metadata": {
    "ExecuteTime": {
     "end_time": "2025-04-21T13:33:50.681162Z",
     "start_time": "2025-04-21T13:33:50.667167Z"
    },
    "collapsed": false,
    "jupyter": {
     "outputs_hidden": false
    }
   },
   "outputs": [
    {
     "data": {
      "text/html": [
       "<div>\n",
       "<style scoped>\n",
       "    .dataframe tbody tr th:only-of-type {\n",
       "        vertical-align: middle;\n",
       "    }\n",
       "\n",
       "    .dataframe tbody tr th {\n",
       "        vertical-align: top;\n",
       "    }\n",
       "\n",
       "    .dataframe thead th {\n",
       "        text-align: right;\n",
       "    }\n",
       "</style>\n",
       "<table border=\"1\" class=\"dataframe\">\n",
       "  <thead>\n",
       "    <tr style=\"text-align: right;\">\n",
       "      <th></th>\n",
       "      <th>payee_id</th>\n",
       "      <th>payee_x</th>\n",
       "      <th>payee_y</th>\n",
       "      <th>day_index</th>\n",
       "      <th>date</th>\n",
       "      <th>payer_id</th>\n",
       "      <th>credit_card</th>\n",
       "      <th>remote</th>\n",
       "      <th>amount</th>\n",
       "      <th>distance</th>\n",
       "      <th>time_seconds</th>\n",
       "      <th>date_time</th>\n",
       "      <th>hour</th>\n",
       "      <th>fraud</th>\n",
       "      <th>run_id</th>\n",
       "    </tr>\n",
       "  </thead>\n",
       "  <tbody>\n",
       "    <tr>\n",
       "      <th>0</th>\n",
       "      <td>0</td>\n",
       "      <td>124</td>\n",
       "      <td>96</td>\n",
       "      <td>0</td>\n",
       "      <td>2023-01-01</td>\n",
       "      <td>623</td>\n",
       "      <td>0</td>\n",
       "      <td>0</td>\n",
       "      <td>53.19</td>\n",
       "      <td>34.525352</td>\n",
       "      <td>45997</td>\n",
       "      <td>2023-01-01 12:46:37</td>\n",
       "      <td>12</td>\n",
       "      <td>0</td>\n",
       "      <td>SNoneP10000D50</td>\n",
       "    </tr>\n",
       "    <tr>\n",
       "      <th>1</th>\n",
       "      <td>0</td>\n",
       "      <td>124</td>\n",
       "      <td>96</td>\n",
       "      <td>0</td>\n",
       "      <td>2023-01-01</td>\n",
       "      <td>718</td>\n",
       "      <td>1</td>\n",
       "      <td>0</td>\n",
       "      <td>7.15</td>\n",
       "      <td>92.800865</td>\n",
       "      <td>50685</td>\n",
       "      <td>2023-01-01 14:04:45</td>\n",
       "      <td>14</td>\n",
       "      <td>0</td>\n",
       "      <td>SNoneP10000D50</td>\n",
       "    </tr>\n",
       "    <tr>\n",
       "      <th>2</th>\n",
       "      <td>0</td>\n",
       "      <td>124</td>\n",
       "      <td>96</td>\n",
       "      <td>0</td>\n",
       "      <td>2023-01-01</td>\n",
       "      <td>1337</td>\n",
       "      <td>0</td>\n",
       "      <td>0</td>\n",
       "      <td>6.18</td>\n",
       "      <td>26.570660</td>\n",
       "      <td>27045</td>\n",
       "      <td>2023-01-01 07:30:45</td>\n",
       "      <td>7</td>\n",
       "      <td>0</td>\n",
       "      <td>SNoneP10000D50</td>\n",
       "    </tr>\n",
       "    <tr>\n",
       "      <th>3</th>\n",
       "      <td>0</td>\n",
       "      <td>124</td>\n",
       "      <td>96</td>\n",
       "      <td>0</td>\n",
       "      <td>2023-01-01</td>\n",
       "      <td>1766</td>\n",
       "      <td>1</td>\n",
       "      <td>0</td>\n",
       "      <td>33.56</td>\n",
       "      <td>49.040800</td>\n",
       "      <td>36729</td>\n",
       "      <td>2023-01-01 10:12:09</td>\n",
       "      <td>10</td>\n",
       "      <td>0</td>\n",
       "      <td>SNoneP10000D50</td>\n",
       "    </tr>\n",
       "    <tr>\n",
       "      <th>4</th>\n",
       "      <td>0</td>\n",
       "      <td>124</td>\n",
       "      <td>96</td>\n",
       "      <td>0</td>\n",
       "      <td>2023-01-01</td>\n",
       "      <td>3379</td>\n",
       "      <td>0</td>\n",
       "      <td>0</td>\n",
       "      <td>87.91</td>\n",
       "      <td>76.922035</td>\n",
       "      <td>34287</td>\n",
       "      <td>2023-01-01 09:31:27</td>\n",
       "      <td>9</td>\n",
       "      <td>0</td>\n",
       "      <td>SNoneP10000D50</td>\n",
       "    </tr>\n",
       "    <tr>\n",
       "      <th>...</th>\n",
       "      <td>...</td>\n",
       "      <td>...</td>\n",
       "      <td>...</td>\n",
       "      <td>...</td>\n",
       "      <td>...</td>\n",
       "      <td>...</td>\n",
       "      <td>...</td>\n",
       "      <td>...</td>\n",
       "      <td>...</td>\n",
       "      <td>...</td>\n",
       "      <td>...</td>\n",
       "      <td>...</td>\n",
       "      <td>...</td>\n",
       "      <td>...</td>\n",
       "      <td>...</td>\n",
       "    </tr>\n",
       "    <tr>\n",
       "      <th>429834</th>\n",
       "      <td>999</td>\n",
       "      <td>15</td>\n",
       "      <td>197</td>\n",
       "      <td>49</td>\n",
       "      <td>2023-02-19</td>\n",
       "      <td>5172</td>\n",
       "      <td>1</td>\n",
       "      <td>1</td>\n",
       "      <td>14.86</td>\n",
       "      <td>129.340640</td>\n",
       "      <td>10661</td>\n",
       "      <td>2023-02-19 02:57:41</td>\n",
       "      <td>2</td>\n",
       "      <td>1</td>\n",
       "      <td>SNoneP10000D50</td>\n",
       "    </tr>\n",
       "    <tr>\n",
       "      <th>429835</th>\n",
       "      <td>999</td>\n",
       "      <td>15</td>\n",
       "      <td>197</td>\n",
       "      <td>49</td>\n",
       "      <td>2023-02-19</td>\n",
       "      <td>5832</td>\n",
       "      <td>0</td>\n",
       "      <td>1</td>\n",
       "      <td>9.90</td>\n",
       "      <td>54.037025</td>\n",
       "      <td>56952</td>\n",
       "      <td>2023-02-19 15:49:12</td>\n",
       "      <td>15</td>\n",
       "      <td>0</td>\n",
       "      <td>SNoneP10000D50</td>\n",
       "    </tr>\n",
       "    <tr>\n",
       "      <th>429836</th>\n",
       "      <td>999</td>\n",
       "      <td>15</td>\n",
       "      <td>197</td>\n",
       "      <td>49</td>\n",
       "      <td>2023-02-19</td>\n",
       "      <td>9087</td>\n",
       "      <td>1</td>\n",
       "      <td>1</td>\n",
       "      <td>9.64</td>\n",
       "      <td>108.300510</td>\n",
       "      <td>49410</td>\n",
       "      <td>2023-02-19 13:43:30</td>\n",
       "      <td>13</td>\n",
       "      <td>0</td>\n",
       "      <td>SNoneP10000D50</td>\n",
       "    </tr>\n",
       "    <tr>\n",
       "      <th>429837</th>\n",
       "      <td>999</td>\n",
       "      <td>15</td>\n",
       "      <td>197</td>\n",
       "      <td>49</td>\n",
       "      <td>2023-02-19</td>\n",
       "      <td>9575</td>\n",
       "      <td>0</td>\n",
       "      <td>0</td>\n",
       "      <td>16.23</td>\n",
       "      <td>150.960270</td>\n",
       "      <td>72845</td>\n",
       "      <td>2023-02-19 20:14:05</td>\n",
       "      <td>20</td>\n",
       "      <td>0</td>\n",
       "      <td>SNoneP10000D50</td>\n",
       "    </tr>\n",
       "    <tr>\n",
       "      <th>429838</th>\n",
       "      <td>999</td>\n",
       "      <td>15</td>\n",
       "      <td>197</td>\n",
       "      <td>49</td>\n",
       "      <td>2023-02-19</td>\n",
       "      <td>9887</td>\n",
       "      <td>0</td>\n",
       "      <td>0</td>\n",
       "      <td>8.74</td>\n",
       "      <td>166.433170</td>\n",
       "      <td>41893</td>\n",
       "      <td>2023-02-19 11:38:13</td>\n",
       "      <td>11</td>\n",
       "      <td>0</td>\n",
       "      <td>SNoneP10000D50</td>\n",
       "    </tr>\n",
       "  </tbody>\n",
       "</table>\n",
       "<p>429839 rows × 15 columns</p>\n",
       "</div>"
      ],
      "text/plain": [
       "        payee_id  payee_x  payee_y  day_index        date  payer_id  \\\n",
       "0              0      124       96          0  2023-01-01       623   \n",
       "1              0      124       96          0  2023-01-01       718   \n",
       "2              0      124       96          0  2023-01-01      1337   \n",
       "3              0      124       96          0  2023-01-01      1766   \n",
       "4              0      124       96          0  2023-01-01      3379   \n",
       "...          ...      ...      ...        ...         ...       ...   \n",
       "429834       999       15      197         49  2023-02-19      5172   \n",
       "429835       999       15      197         49  2023-02-19      5832   \n",
       "429836       999       15      197         49  2023-02-19      9087   \n",
       "429837       999       15      197         49  2023-02-19      9575   \n",
       "429838       999       15      197         49  2023-02-19      9887   \n",
       "\n",
       "        credit_card  remote  amount    distance  time_seconds  \\\n",
       "0                 0       0   53.19   34.525352         45997   \n",
       "1                 1       0    7.15   92.800865         50685   \n",
       "2                 0       0    6.18   26.570660         27045   \n",
       "3                 1       0   33.56   49.040800         36729   \n",
       "4                 0       0   87.91   76.922035         34287   \n",
       "...             ...     ...     ...         ...           ...   \n",
       "429834            1       1   14.86  129.340640         10661   \n",
       "429835            0       1    9.90   54.037025         56952   \n",
       "429836            1       1    9.64  108.300510         49410   \n",
       "429837            0       0   16.23  150.960270         72845   \n",
       "429838            0       0    8.74  166.433170         41893   \n",
       "\n",
       "                  date_time  hour  fraud          run_id  \n",
       "0       2023-01-01 12:46:37    12      0  SNoneP10000D50  \n",
       "1       2023-01-01 14:04:45    14      0  SNoneP10000D50  \n",
       "2       2023-01-01 07:30:45     7      0  SNoneP10000D50  \n",
       "3       2023-01-01 10:12:09    10      0  SNoneP10000D50  \n",
       "4       2023-01-01 09:31:27     9      0  SNoneP10000D50  \n",
       "...                     ...   ...    ...             ...  \n",
       "429834  2023-02-19 02:57:41     2      1  SNoneP10000D50  \n",
       "429835  2023-02-19 15:49:12    15      0  SNoneP10000D50  \n",
       "429836  2023-02-19 13:43:30    13      0  SNoneP10000D50  \n",
       "429837  2023-02-19 20:14:05    20      0  SNoneP10000D50  \n",
       "429838  2023-02-19 11:38:13    11      0  SNoneP10000D50  \n",
       "\n",
       "[429839 rows x 15 columns]"
      ]
     },
     "execution_count": 12,
     "metadata": {},
     "output_type": "execute_result"
    }
   ],
   "source": [
    "payees_transactions"
   ]
  },
  {
   "cell_type": "code",
   "execution_count": 13,
   "metadata": {
    "ExecuteTime": {
     "end_time": "2025-04-21T13:33:50.879339Z",
     "start_time": "2025-04-21T13:33:50.682161Z"
    },
    "collapsed": false,
    "jupyter": {
     "outputs_hidden": false
    }
   },
   "outputs": [],
   "source": [
    "# Convert date_time to datetime\n",
    "payees_transactions['date_time'] = pd.to_datetime(payees_transactions['date_time'])"
   ]
  },
  {
   "cell_type": "code",
   "execution_count": 14,
   "metadata": {
    "ExecuteTime": {
     "end_time": "2025-04-21T13:33:50.880812Z",
     "start_time": "2025-04-21T13:33:50.868341Z"
    },
    "collapsed": false,
    "jupyter": {
     "outputs_hidden": false
    }
   },
   "outputs": [
    {
     "data": {
      "text/plain": [
       "0    12\n",
       "1    14\n",
       "2     7\n",
       "3    10\n",
       "4     9\n",
       "Name: hour, dtype: int32"
      ]
     },
     "execution_count": 14,
     "metadata": {},
     "output_type": "execute_result"
    }
   ],
   "source": [
    "payees_transactions['hour'] = payees_transactions['date_time'].dt.hour\n",
    "payees_transactions['hour'].head()"
   ]
  },
  {
   "cell_type": "code",
   "execution_count": 15,
   "metadata": {
    "ExecuteTime": {
     "end_time": "2025-04-21T13:33:50.928511Z",
     "start_time": "2025-04-21T13:33:50.880812Z"
    },
    "collapsed": false,
    "jupyter": {
     "outputs_hidden": false
    }
   },
   "outputs": [
    {
     "data": {
      "text/html": [
       "<div>\n",
       "<style scoped>\n",
       "    .dataframe tbody tr th:only-of-type {\n",
       "        vertical-align: middle;\n",
       "    }\n",
       "\n",
       "    .dataframe tbody tr th {\n",
       "        vertical-align: top;\n",
       "    }\n",
       "\n",
       "    .dataframe thead th {\n",
       "        text-align: right;\n",
       "    }\n",
       "</style>\n",
       "<table border=\"1\" class=\"dataframe\">\n",
       "  <thead>\n",
       "    <tr style=\"text-align: right;\">\n",
       "      <th></th>\n",
       "      <th>payee_id</th>\n",
       "      <th>payee_x</th>\n",
       "      <th>payee_y</th>\n",
       "      <th>day_index</th>\n",
       "      <th>date</th>\n",
       "      <th>payer_id</th>\n",
       "      <th>credit_card</th>\n",
       "      <th>remote</th>\n",
       "      <th>amount</th>\n",
       "      <th>distance</th>\n",
       "      <th>time_seconds</th>\n",
       "      <th>date_time</th>\n",
       "      <th>hour</th>\n",
       "      <th>fraud</th>\n",
       "      <th>run_id</th>\n",
       "      <th>delta_day</th>\n",
       "    </tr>\n",
       "  </thead>\n",
       "  <tbody>\n",
       "    <tr>\n",
       "      <th>0</th>\n",
       "      <td>0</td>\n",
       "      <td>124</td>\n",
       "      <td>96</td>\n",
       "      <td>0</td>\n",
       "      <td>2023-01-01</td>\n",
       "      <td>623</td>\n",
       "      <td>0</td>\n",
       "      <td>0</td>\n",
       "      <td>53.19</td>\n",
       "      <td>34.525352</td>\n",
       "      <td>45997</td>\n",
       "      <td>2023-01-01 12:46:37</td>\n",
       "      <td>12</td>\n",
       "      <td>0</td>\n",
       "      <td>SNoneP10000D50</td>\n",
       "      <td>0</td>\n",
       "    </tr>\n",
       "    <tr>\n",
       "      <th>1</th>\n",
       "      <td>0</td>\n",
       "      <td>124</td>\n",
       "      <td>96</td>\n",
       "      <td>0</td>\n",
       "      <td>2023-01-01</td>\n",
       "      <td>718</td>\n",
       "      <td>1</td>\n",
       "      <td>0</td>\n",
       "      <td>7.15</td>\n",
       "      <td>92.800865</td>\n",
       "      <td>50685</td>\n",
       "      <td>2023-01-01 14:04:45</td>\n",
       "      <td>14</td>\n",
       "      <td>0</td>\n",
       "      <td>SNoneP10000D50</td>\n",
       "      <td>0</td>\n",
       "    </tr>\n",
       "    <tr>\n",
       "      <th>2</th>\n",
       "      <td>0</td>\n",
       "      <td>124</td>\n",
       "      <td>96</td>\n",
       "      <td>0</td>\n",
       "      <td>2023-01-01</td>\n",
       "      <td>1337</td>\n",
       "      <td>0</td>\n",
       "      <td>0</td>\n",
       "      <td>6.18</td>\n",
       "      <td>26.570660</td>\n",
       "      <td>27045</td>\n",
       "      <td>2023-01-01 07:30:45</td>\n",
       "      <td>7</td>\n",
       "      <td>0</td>\n",
       "      <td>SNoneP10000D50</td>\n",
       "      <td>0</td>\n",
       "    </tr>\n",
       "    <tr>\n",
       "      <th>3</th>\n",
       "      <td>0</td>\n",
       "      <td>124</td>\n",
       "      <td>96</td>\n",
       "      <td>0</td>\n",
       "      <td>2023-01-01</td>\n",
       "      <td>1766</td>\n",
       "      <td>1</td>\n",
       "      <td>0</td>\n",
       "      <td>33.56</td>\n",
       "      <td>49.040800</td>\n",
       "      <td>36729</td>\n",
       "      <td>2023-01-01 10:12:09</td>\n",
       "      <td>10</td>\n",
       "      <td>0</td>\n",
       "      <td>SNoneP10000D50</td>\n",
       "      <td>0</td>\n",
       "    </tr>\n",
       "    <tr>\n",
       "      <th>4</th>\n",
       "      <td>0</td>\n",
       "      <td>124</td>\n",
       "      <td>96</td>\n",
       "      <td>0</td>\n",
       "      <td>2023-01-01</td>\n",
       "      <td>3379</td>\n",
       "      <td>0</td>\n",
       "      <td>0</td>\n",
       "      <td>87.91</td>\n",
       "      <td>76.922035</td>\n",
       "      <td>34287</td>\n",
       "      <td>2023-01-01 09:31:27</td>\n",
       "      <td>9</td>\n",
       "      <td>0</td>\n",
       "      <td>SNoneP10000D50</td>\n",
       "      <td>0</td>\n",
       "    </tr>\n",
       "  </tbody>\n",
       "</table>\n",
       "</div>"
      ],
      "text/plain": [
       "   payee_id  payee_x  payee_y  day_index        date  payer_id  credit_card  \\\n",
       "0         0      124       96          0  2023-01-01       623            0   \n",
       "1         0      124       96          0  2023-01-01       718            1   \n",
       "2         0      124       96          0  2023-01-01      1337            0   \n",
       "3         0      124       96          0  2023-01-01      1766            1   \n",
       "4         0      124       96          0  2023-01-01      3379            0   \n",
       "\n",
       "   remote  amount   distance  time_seconds           date_time  hour  fraud  \\\n",
       "0       0   53.19  34.525352         45997 2023-01-01 12:46:37    12      0   \n",
       "1       0    7.15  92.800865         50685 2023-01-01 14:04:45    14      0   \n",
       "2       0    6.18  26.570660         27045 2023-01-01 07:30:45     7      0   \n",
       "3       0   33.56  49.040800         36729 2023-01-01 10:12:09    10      0   \n",
       "4       0   87.91  76.922035         34287 2023-01-01 09:31:27     9      0   \n",
       "\n",
       "           run_id  delta_day  \n",
       "0  SNoneP10000D50          0  \n",
       "1  SNoneP10000D50          0  \n",
       "2  SNoneP10000D50          0  \n",
       "3  SNoneP10000D50          0  \n",
       "4  SNoneP10000D50          0  "
      ]
     },
     "execution_count": 15,
     "metadata": {},
     "output_type": "execute_result"
    }
   ],
   "source": [
    "min_day = payees_transactions['date_time'].min()\n",
    "# Calculate delta_day for each transaction\n",
    "payees_transactions['delta_day'] = (payees_transactions['date_time'] - min_day).dt.days\n",
    "\n",
    "payees_transactions.head()"
   ]
  },
  {
   "cell_type": "code",
   "execution_count": null,
   "metadata": {
    "ExecuteTime": {
     "end_time": "2025-04-21T15:44:24.645194Z",
     "start_time": "2025-04-21T15:44:24.558187Z"
    },
    "collapsed": false,
    "jupyter": {
     "outputs_hidden": false
    }
   },
   "outputs": [],
   "source": []
  },
  {
   "cell_type": "markdown",
   "metadata": {},
   "source": [
    "## GAN"
   ]
  },
  {
   "cell_type": "code",
   "execution_count": 16,
   "metadata": {
    "ExecuteTime": {
     "end_time": "2025-04-21T15:49:35.807098Z",
     "start_time": "2025-04-21T15:49:35.733929Z"
    },
    "collapsed": false,
    "jupyter": {
     "outputs_hidden": false
    }
   },
   "outputs": [],
   "source": [
    "import torch\n",
    "import torch.nn as nn\n",
    "import torch.optim as optim\n",
    "import numpy as np\n",
    "import copy\n",
    "from sklearn.preprocessing import MinMaxScaler, Normalizer, RobustScaler, PowerTransformer\n",
    "import torch.nn.functional as F"
   ]
  },
  {
   "cell_type": "code",
   "execution_count": 17,
   "metadata": {
    "ExecuteTime": {
     "end_time": "2025-04-21T15:49:36.613533Z",
     "start_time": "2025-04-21T15:49:36.576756Z"
    },
    "collapsed": false,
    "jupyter": {
     "outputs_hidden": false
    }
   },
   "outputs": [],
   "source": [
    "G_NODES = 16\n",
    "D_NODES = 1\n",
    "\n",
    "# Generator Model\n",
    "class Generator(nn.Module):\n",
    "    def __init__(self, noise_dim, output_dim):\n",
    "        super(Generator, self).__init__()\n",
    "        self.net = nn.Sequential(\n",
    "            #nn.BatchNorm1d(noise_dim),\n",
    "            nn.Linear(noise_dim, G_NODES),\n",
    "            nn.ReLU(),\n",
    "            #nn.Linear(G_NODES, G_NODES),\n",
    "            #nn.ReLU(),\n",
    "            nn.Linear(G_NODES, output_dim)\n",
    "        )\n",
    "\n",
    "    def forward(self, z):\n",
    "        return self.net(z)\n",
    "\n",
    "# Discriminator Model\n",
    "class Discriminator(nn.Module):\n",
    "    def __init__(self, input_dim):\n",
    "        super(Discriminator, self).__init__()\n",
    "        self.net = nn.Sequential(\n",
    "            nn.BatchNorm1d(input_dim),\n",
    "            nn.Linear(input_dim, D_NODES),\n",
    "            nn.ReLU(),\n",
    "            nn.Dropout(0.5),\n",
    "            nn.Linear(D_NODES, 1),\n",
    "            nn.Sigmoid()\n",
    "        )\n",
    "\n",
    "    def forward(self, x):\n",
    "        return self.net(x)\n"
   ]
  },
  {
   "cell_type": "code",
   "execution_count": 18,
   "metadata": {},
   "outputs": [],
   "source": [
    "gan_transactions = copy.deepcopy(payees_transactions[[ 'amount', 'payee_x', 'payee_y', 'hour']]) #['remote',\n",
    "\n",
    "scaler = RobustScaler(quantile_range=(15.0, 85.0),  unit_variance=True) #(-1,1)\n",
    "normalized_values = scaler.fit_transform( gan_transactions[[ 'amount', 'payee_x', 'payee_y', 'hour']].values) #'remote',\n",
    "real_data = torch.tensor(normalized_values).to(torch.float)\n",
    "\n"
   ]
  },
  {
   "cell_type": "code",
   "execution_count": 19,
   "metadata": {},
   "outputs": [],
   "source": [
    "#plt.boxplot(gan_transactions, showfliers = False)"
   ]
  },
  {
   "cell_type": "code",
   "execution_count": 20,
   "metadata": {},
   "outputs": [],
   "source": [
    "def process_positive(x):\n",
    "    return max(x, 0)\n",
    "\n",
    "def process_coordinates(x):\n",
    "    return int(max(0, min(200, x)))\n",
    "\n",
    "def process_hour(x):\n",
    "    x = max(x, 0)\n",
    "    x = min(x, 24)\n",
    "    return int(x)\n",
    "\n",
    "def process_remote(x):\n",
    "    if x < 0.5: \n",
    "        return 0\n",
    "    else:\n",
    "        return 1"
   ]
  },
  {
   "cell_type": "code",
   "execution_count": 21,
   "metadata": {
    "ExecuteTime": {
     "end_time": "2025-04-21T15:49:37.376428Z",
     "start_time": "2025-04-21T15:49:37.290402Z"
    },
    "collapsed": false,
    "jupyter": {
     "outputs_hidden": false
    }
   },
   "outputs": [],
   "source": [
    "# Initialize models\n",
    "noise_dim = 5  # Noise vector dimension\n",
    "data_dim = real_data.shape[1]\n",
    "\n",
    "G = Generator(noise_dim, data_dim)\n",
    "D = Discriminator(data_dim)\n",
    "\n",
    "# Optimizers\n",
    "lr = 0.0001\n",
    "g_optimizer = optim.Adam(G.parameters(), lr=lr*10)\n",
    "d_optimizer = optim.Adam(D.parameters(), lr=lr)\n",
    "\n",
    "# Loss function\n",
    "loss_fn = nn.BCELoss()\n",
    "\n",
    "# Training loop\n",
    "epochs = 20000\n",
    "batch_size = 128\n",
    "\n",
    "noise_std = 0.0"
   ]
  },
  {
   "cell_type": "code",
   "execution_count": null,
   "metadata": {
    "ExecuteTime": {
     "end_time": "2025-04-21T15:49:58.426000Z",
     "start_time": "2025-04-21T15:49:37.874090Z"
    },
    "scrolled": true
   },
   "outputs": [
    {
     "name": "stdout",
     "output_type": "stream",
     "text": [
      "        amount  payee_x  payee_y  hour\n",
      "154272   29.45      144      196    14\n",
      "257368    9.25       97       42     8\n",
      "193      81.58      124       96     8\n",
      "79806    14.27       61      152    14\n",
      "206680   10.84       54      163    11\n",
      "Epoch 0: D Loss: -0.0044, G Loss: -0.6082\n",
      "    amount  payee_x  payee_y  hour\n",
      "23   12.95      107       90    12\n",
      "67   10.21      104       82    13\n",
      "17   10.05      102       86    13\n",
      "36    9.91      100       86    15\n",
      "44   11.40       98       85    12\n",
      "Epoch 500: D Loss: -0.0160, G Loss: -0.5897\n",
      "Epoch 1000: D Loss: -0.0043, G Loss: -0.5763\n",
      "Epoch 1500: D Loss: -0.0073, G Loss: -0.5658\n",
      "Epoch 2000: D Loss: -0.0153, G Loss: -0.5552\n",
      "Epoch 2500: D Loss: -0.0066, G Loss: -0.5408\n",
      "Epoch 3000: D Loss: -0.0193, G Loss: -0.5299\n",
      "Epoch 3500: D Loss: -0.0100, G Loss: -0.5166\n",
      "Epoch 4000: D Loss: -0.0086, G Loss: -0.5096\n",
      "Epoch 4500: D Loss: -0.0106, G Loss: -0.4952\n",
      "Epoch 5000: D Loss: -0.0168, G Loss: -0.4866\n",
      "Epoch 5500: D Loss: -0.0074, G Loss: -0.4755\n",
      "Epoch 6000: D Loss: -0.0113, G Loss: -0.4568\n"
     ]
    }
   ],
   "source": [
    "d_losses = []\n",
    "g_losses = []\n",
    "\n",
    "print(gan_transactions.sample(5))\n",
    "\n",
    "for epoch in range(epochs):\n",
    "    real_samples = real_data[torch.randint(0, len(real_data), (batch_size,))]\n",
    "    noise = torch.randn_like(real_samples) * noise_std  # noise_std is your chosen standard deviation\n",
    "    real_samples = real_samples + noise\n",
    "\n",
    "    fake_samples = G(torch.randn(batch_size, noise_dim)).detach()\n",
    "\n",
    "    \n",
    "    # Preprocess fake examples\n",
    "    fake_samples_numpy = fake_samples.numpy()\n",
    "    fake_samples = scaler.inverse_transform(fake_samples_numpy)\n",
    "    gen_df = pd.DataFrame(fake_samples, columns=gan_transactions.columns)\n",
    "    # gen_df['remote'] = np.array(list(map(process_remote, gen_df['remote'])))\n",
    "    gen_df['amount'] = np.array(list(map(process_positive, gen_df['amount']))).round(2)\n",
    "    gen_df['hour'] = np.array(list(map(process_hour, gen_df['hour'])))\n",
    "    gen_df['payee_x'] = np.array(list(map(process_coordinates, gen_df['payee_x'])))\n",
    "    gen_df['payee_y'] = np.array(list(map(process_coordinates, gen_df['payee_y'])))\n",
    "\n",
    "    fake_samples = torch.Tensor(scaler.transform(gen_df.values)).to(torch.float)\n",
    "    \n",
    "    \n",
    "    d_real = D(real_samples)\n",
    "    d_fake = D(fake_samples)\n",
    "\n",
    "    \n",
    "    # Train Discriminator (Wasserstein loss)\n",
    "    d_optimizer.zero_grad()\n",
    "    real_loss = -torch.mean(d_real)\n",
    "    fake_loss = torch.mean(d_fake)\n",
    "    d_loss = real_loss + fake_loss\n",
    "    d_loss.backward()\n",
    "    d_optimizer.step()\n",
    "    \n",
    "    # Train Generator (Wasserstein loss)\n",
    "    g_optimizer.zero_grad()\n",
    "    g_loss = -torch.mean(D(fake_samples))\n",
    "    g_loss.backward()\n",
    "    g_optimizer.step()\n",
    "    \"\"\"\n",
    "    if epoch % 5 == 4:\n",
    "        # Train Discriminator\n",
    "        d_optimizer.zero_grad()\n",
    "        real_loss = loss_fn(D(real_samples), torch.ones_like(d_real))\n",
    "        fake_loss = loss_fn(D(fake_samples.detach()), torch.zeros_like(d_fake))\n",
    "        d_loss = real_loss + fake_loss\n",
    "        d_loss.backward()\n",
    "        d_optimizer.step()\n",
    "\n",
    "    # Train Generator\n",
    "    g_optimizer.zero_grad()\n",
    "    g_loss = loss_fn(D(fake_samples), torch.ones_like(d_fake))\n",
    "    g_loss.backward()\n",
    "    g_optimizer.step()\n",
    "    \"\"\"\n",
    "\n",
    "\n",
    "    # g_loss = loss_fn(d_generated, torch.ones_like(d_generated))\n",
    "\n",
    "    \n",
    "\n",
    "    if epoch % 500 == 0:\n",
    "        d_losses.append(d_loss.item())\n",
    "        g_losses.append(g_loss.item())\n",
    "        print(f\"Epoch {epoch}: D Loss: {d_loss.item():.4f}, G Loss: {g_loss.item():.4f}\")\n",
    "        if epoch % 50000 == 0:\n",
    "            print(gen_df.sample(5))\n",
    "        "
   ]
  },
  {
   "cell_type": "code",
   "execution_count": null,
   "metadata": {},
   "outputs": [],
   "source": [
    "import matplotlib.pyplot as plt\n",
    "\n",
    "plt.figure(figsize=(10,5))\n",
    "plt.plot(d_losses, label='Discriminator Loss')\n",
    "plt.plot(g_losses, label='Generator Loss')\n",
    "plt.xlabel('Epoch')\n",
    "plt.ylabel('Loss')\n",
    "plt.legend()\n",
    "plt.title('Generator and Discriminator Loss Over Epochs')\n",
    "plt.grid(True)\n",
    "plt.show()"
   ]
  },
  {
   "cell_type": "code",
   "execution_count": null,
   "metadata": {
    "ExecuteTime": {
     "end_time": "2025-04-21T15:51:11.375383Z",
     "start_time": "2025-04-21T15:51:11.274917Z"
    },
    "collapsed": false,
    "jupyter": {
     "outputs_hidden": false
    }
   },
   "outputs": [],
   "source": [
    "# Generate new samples\n",
    "num_samples = 2000\n",
    "z = torch.randn(num_samples, noise_dim)\n",
    "generated_samples = G(z).detach().numpy()\n",
    "# Inverse transform to get original scale\n",
    "generated_samples = scaler.inverse_transform(generated_samples)\n",
    "\n",
    "\n"
   ]
  },
  {
   "cell_type": "code",
   "execution_count": null,
   "metadata": {},
   "outputs": [],
   "source": [
    "# Preprocess generated data\n",
    "generated_df = pd.DataFrame(generated_samples, columns=gan_transactions.columns)\n",
    "\n",
    "    \n",
    "# generated_df['remote'] = np.array(list(map(process_remote, generated_df['remote'])))\n",
    "generated_df['amount'] = np.array(list(map(process_positive, generated_df['amount']))).round(2)\n",
    "generated_df['hour'] = np.array(list(map(process_hour, generated_df['hour'])))\n",
    "generated_df['payee_x'] = np.array(list(map(process_coordinates, generated_df['payee_x'])))\n",
    "generated_df['payee_y'] = np.array(list(map(process_coordinates, generated_df['payee_y'])))\n",
    "\n",
    "generated_df.head(10), gan_transactions.sample(10)"
   ]
  },
  {
   "cell_type": "code",
   "execution_count": null,
   "metadata": {
    "ExecuteTime": {
     "end_time": "2025-04-21T15:54:28.103010Z",
     "start_time": "2025-04-21T15:54:27.143232Z"
    },
    "collapsed": false,
    "jupyter": {
     "outputs_hidden": false
    }
   },
   "outputs": [],
   "source": [
    "# Plot boxplot of original data and generated data\n",
    "\n",
    "import matplotlib.pyplot as plt\n",
    "import seaborn as sns\n",
    "\n",
    "import matplotlib.pyplot as plt\n",
    "import numpy as np\n",
    "\n",
    "# Number of columns\n",
    "num_columns = len(gan_transactions.columns)\n",
    "\n",
    "fig, ax = plt.subplots(figsize=(12, 6))\n",
    "\n",
    "# Positions for each box\n",
    "positions1 = np.arange(1, num_columns + 1) - 0.2\n",
    "positions2 = np.arange(1, num_columns + 1) + 0.2\n",
    "\n",
    "# Plot both datasets\n",
    "bp1 = ax.boxplot(gan_transactions.values, positions=positions1, widths=0.3, patch_artist=True, showfliers=False, showmeans=True)\n",
    "bp2 = ax.boxplot(generated_df.values, positions=positions2, widths=0.3, patch_artist=True, showfliers=False, showmeans=True)\n",
    "\n",
    "# Set face colors for the boxes\n",
    "color1 = 'skyblue'\n",
    "color2 = 'lightgreen'\n",
    "\n",
    "for box in bp1['boxes']:\n",
    "    box.set(facecolor=color1)\n",
    "\n",
    "for box in bp2['boxes']:\n",
    "    box.set(facecolor=color2)\n",
    "\n",
    "# Set x-axis labels\n",
    "ax.set_xticks(np.arange(1, num_columns + 1))\n",
    "ax.set_xticklabels(gan_transactions.columns, rotation=45)\n",
    "\n",
    "ax.set_title('Side-by-Side Colored Boxplots for Each Column')\n",
    "\n",
    "# Custom legend using patches\n",
    "from matplotlib.patches import Patch\n",
    "legend_patches = [\n",
    "    Patch(facecolor=color1, edgecolor='black', label='GAN Transactions'),\n",
    "    Patch(facecolor=color2, edgecolor='black', label='Generated Data')\n",
    "]\n",
    "\n",
    "ax.legend(handles=legend_patches)\n",
    "\n",
    "plt.tight_layout()\n",
    "plt.show()"
   ]
  },
  {
   "cell_type": "code",
   "execution_count": null,
   "metadata": {},
   "outputs": [],
   "source": [
    "np.array([-1, 4, 0, 0 , 12]).astype(bool).astype(int)"
   ]
  },
  {
   "cell_type": "code",
   "execution_count": null,
   "metadata": {},
   "outputs": [],
   "source": [
    "generated_df.describe(), gan_transactions.describe()"
   ]
  },
  {
   "cell_type": "code",
   "execution_count": null,
   "metadata": {},
   "outputs": [],
   "source": []
  },
  {
   "cell_type": "code",
   "execution_count": null,
   "metadata": {},
   "outputs": [],
   "source": []
  },
  {
   "cell_type": "code",
   "execution_count": null,
   "metadata": {},
   "outputs": [],
   "source": []
  },
  {
   "cell_type": "code",
   "execution_count": null,
   "metadata": {},
   "outputs": [],
   "source": []
  }
 ],
 "metadata": {
  "kernelspec": {
   "display_name": "Python 3 (ipykernel)",
   "language": "python",
   "name": "python3"
  },
  "language_info": {
   "codemirror_mode": {
    "name": "ipython",
    "version": 3
   },
   "file_extension": ".py",
   "mimetype": "text/x-python",
   "name": "python",
   "nbconvert_exporter": "python",
   "pygments_lexer": "ipython3",
   "version": "3.10.1"
  }
 },
 "nbformat": 4,
 "nbformat_minor": 4
}
