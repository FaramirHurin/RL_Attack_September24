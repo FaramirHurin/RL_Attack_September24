{
 "cells": [
  {
   "cell_type": "markdown",
   "metadata": {},
   "source": [
    "# PPO, R-PPO and VAE comparison"
   ]
  },
  {
   "cell_type": "markdown",
   "metadata": {},
   "source": [
    "## Frauds in the dataset\n",
    "We compute how much money a fraudster is able to collect with a card in the simulator."
   ]
  },
  {
   "cell_type": "code",
   "execution_count": null,
   "metadata": {
    "pycharm": {
     "is_executing": true
    }
   },
   "outputs": [
    {
     "name": "stdout",
     "output_type": "stream",
     "text": [
      "Sourcing DCPC data\n"
     ]
    },
    {
     "name": "stderr",
     "output_type": "stream",
     "text": [
      "INFO:cardsim.cardsim.Cardsim:Sourcing DCPC data\n"
     ]
    },
    {
     "name": "stdout",
     "output_type": "stream",
     "text": [
      "Sourcing successful; formatting data\n"
     ]
    },
    {
     "name": "stderr",
     "output_type": "stream",
     "text": [
      "INFO:cardsim.cardsim.Cardsim:Sourcing successful; formatting data\n"
     ]
    },
    {
     "name": "stdout",
     "output_type": "stream",
     "text": [
      "DCPC data sourcing and formatting complete\n"
     ]
    },
    {
     "name": "stderr",
     "output_type": "stream",
     "text": [
      "INFO:cardsim.cardsim.Cardsim:DCPC data sourcing and formatting complete\n"
     ]
    },
    {
     "name": "stdout",
     "output_type": "stream",
     "text": [
      "Generating payer profiles for 20000 payers\n"
     ]
    },
    {
     "name": "stderr",
     "output_type": "stream",
     "text": [
      "INFO:cardsim.cardsim.Cardsim:Generating payer profiles for 20000 payers\n"
     ]
    },
    {
     "name": "stdout",
     "output_type": "stream",
     "text": [
      "Generating payee profiles for 2000 payees\n"
     ]
    },
    {
     "name": "stderr",
     "output_type": "stream",
     "text": [
      "INFO:cardsim.cardsim.Cardsim:Generating payee profiles for 2000 payees\n"
     ]
    }
   ],
   "source": [
    "from parameters import CardSimParameters\n",
    "\n",
    "p = CardSimParameters.paper_params()\n",
    "fraudulent_cards, terminals, transactions = p.get_simulation_data()"
   ]
  },
  {
   "cell_type": "code",
   "execution_count": null,
   "metadata": {
    "pycharm": {
     "is_executing": true
    }
   },
   "outputs": [],
   "source": [
    "from parameters import CardSimParameters, Parameters\n",
    "\n",
    "params = Parameters(cardsim=CardSimParameters.paper_params())\n",
    "env = params.create_env()\n",
    "banksys = env.system"
   ]
  },
  {
   "cell_type": "code",
   "execution_count": null,
   "metadata": {
    "pycharm": {
     "is_executing": true
    }
   },
   "outputs": [],
   "source": [
    "frauds = [t for t in transactions if t.]\n",
    "frauds.sort(key=lambda t: t.timestamp)\n",
    "print(len(frauds))\n",
    "n_cards = set(t.card_id for t in frauds)\n",
    "print(len(n_cards))"
   ]
  },
  {
   "cell_type": "code",
   "execution_count": null,
   "metadata": {
    "pycharm": {
     "is_executing": true
    }
   },
   "outputs": [],
   "source": [
    "import matplotlib.pyplot as plt\n",
    "\n",
    "amounts = [t.amount for t in transactions]\n",
    "plt.boxplot(amounts, vert=False)"
   ]
  },
  {
   "cell_type": "code",
   "execution_count": null,
   "metadata": {
    "pycharm": {
     "is_executing": true
    }
   },
   "outputs": [],
   "source": [
    "plt.boxplot(amounts, vert=True, showfliers=False)\n"
   ]
  },
  {
   "cell_type": "code",
   "execution_count": 6,
   "metadata": {
    "ExecuteTime": {
     "end_time": "2025-05-28T18:16:20.758442Z",
     "start_time": "2025-05-28T18:12:32.547549Z"
    }
   },
   "outputs": [
    {
     "name": "stderr",
     "output_type": "stream",
     "text": [
      "100%|██████████| 158171/158171 [03:48<00:00, 693.17it/s]  \n"
     ]
    }
   ],
   "source": [
    "from tqdm import tqdm\n",
    "\n",
    "blocked_cards = set()\n",
    "frauds_amounts = list[float]()\n",
    "\n",
    "for trx in tqdm(frauds):\n",
    "    if trx.card_id in blocked_cards:\n",
    "        continue\n",
    "    if banksys.process_transaction(trx):\n",
    "        blocked_cards.add(trx.card_id)\n",
    "        frauds_amounts.append(0.0)\n",
    "    else:\n",
    "        undetected_frauds.append(trx)"
   ]
  },
  {
   "cell_type": "markdown",
   "metadata": {},
   "source": [
    "## Score over training time"
   ]
  },
  {
   "cell_type": "code",
   "execution_count": 1,
   "metadata": {
    "ExecuteTime": {
     "end_time": "2025-06-08T21:50:31.521143Z",
     "start_time": "2025-06-08T21:50:31.424584Z"
    }
   },
   "outputs": [],
   "source": [
    "import numpy as np\n",
    "\n",
    "anomaly = True\n",
    "\n",
    "if anomaly:\n",
    "    logdirs = {\n",
    "        \"VAE\": \"../logs/anomaly/vae/2025-09-19T15-46-05.846486\",\n",
    "        \"PPO\": \"../logs/anomaly/ppo/2025-09-19T09-43-04.501028\",\n",
    "        \"R-PPO\": \"../logs/anomaly/rppo/2025-09-19T13-05-17.374379\",\n",
    "    }\n",
    "else:\n",
    "    logdirs = {\n",
    "        \"VAE\": \"logs/no-anomaly/no-anomaly/vae/2025-09-19T16-41-07.764246\",\n",
    "        \"PPO\": \"logs/no-anomaly/no-anomaly/ppo/2025-09-19T11-40-32.971413\",\n",
    "        \"R-PPO\": \"logs/no-anomaly/no-anomaly/rppo/2025-09-19T14-08-14.120200\"\n",
    "    }\n",
    "\n",
    "    \n",
    "def moving_average(data, window_size=100):\n",
    "    \"\"\"Compute the moving average of a 1D array.\"\"\"\n",
    "    return np.convolve(data, np.ones(window_size) / window_size, mode=\"valid\")\n"
   ]
  },
  {
   "cell_type": "code",
   "execution_count": null,
   "metadata": {},
   "outputs": [
    {
     "name": "stdout",
     "output_type": "stream",
     "text": [
      "logs/exp-final/vae\n",
      "There are 4 runs in VAE\n",
      "logs/exp-final/ppo\n",
      "There are 4 runs in PPO\n",
      "logs/exp-final/rppo\n",
      "There are 4 runs in R-PPO\n"
     ]
    },
    {
     "data": {
      "image/png": "[encoded data removed]",
      "text/plain": [
       "<Figure size 640x480 with 1 Axes>"
      ]
     },
     "metadata": {},
     "output_type": "display_data"
    }
   ],
   "source": [
    "import matplotlib.pyplot as plt\n",
    "from plots import Experiment\n",
    "\n",
    "PLOT_SUM = False\n",
    "import numpy as np\n",
    "import matplotlib.pyplot as plt\n",
    "\n",
    "# First, collect all sequences to determine the max length\n",
    "all_means = {}\n",
    "all_stds = {}\n",
    "max_len = 2500\n",
    "\n",
    "# First pass to find max length\n",
    "for label, logdir in logdirs.items():\n",
    "    exp = Experiment.load(logdir)\n",
    "    mean, std = exp.mean_std_amounts_over_time\n",
    "    mean = moving_average(mean)\n",
    "    summa = np.cumsum(mean)\n",
    "    std = moving_average(std)\n",
    "    all_means[label] = mean\n",
    "    all_sums[label] = summa\n",
    "    all_stds[label] = std\n",
    "    max_len = max(max_len, len(mean))\n",
    "\n",
    "# Now pad all sequences to max_len with NaNs\n",
    "for label in logdirs:\n",
    "    mean = all_means[label]\n",
    "    summa = all_sums[label]\n",
    "    std = all_stds[label]\n",
    "    padded_mean = np.full(max_len, np.nan)\n",
    "    padded_sum = np.full(max_len, np.nan)\n",
    "    padded_std = np.full(max_len, np.nan)\n",
    "    padded_mean[:len(mean)] = mean\n",
    "    padded_sum[:len(summa)] = summa\n",
    "    padded_std[:len(std)] = std\n",
    "\n",
    "\n",
    "    # Compute 95% CI\n",
    "    # ci95 = 1.96 * (padded_std / exp.n_runs**0.5)\n",
    "    x = np.arange(max_len)\n",
    "    if PLOT_SUM:\n",
    "        plt.plot(x, padded_sum, label=label)\n",
    "    else:\n",
    "        plt.plot(x, padded_mean, label=label)\n",
    "    #plt.fill_between(x, padded_mean - ci95, padded_mean + ci95, alpha=0.5)\n",
    "\n",
    "plt.xlabel(\"Episode\")\n",
    "plt.ylabel(\"Amount\")\n",
    "#plt.ylim(top=300)\n",
    "plt.legend()\n",
    "plt.savefig(\"amount-over-time_anomaly.svg\")\n",
    "\n"
   ]
  },
  {
   "cell_type": "code",
   "execution_count": null,
   "metadata": {},
   "outputs": [],
   "source": []
  },
  {
   "cell_type": "code",
   "execution_count": null,
   "metadata": {},
   "outputs": [],
   "source": [
    "import numpy as np\n",
    "import pandas as pd\n",
    "\n",
    "# Dictionary to store results\n",
    "results = {\n",
    "    \"Label\": [],\n",
    "    \"Episodes\": [],\n",
    "    \"Mean\": [],\n",
    "    #\"Variance\": []\n",
    "}\n",
    "\n",
    "for label, logdir in logdirs.items():\n",
    "    print(logdir)\n",
    "    exp = Experiment.load(logdir)\n",
    "    print(f\"There are {exp.n_runs} runs in {label}\")\n",
    "    amounts = exp.amounts_over_time  # shape: (n_runs, n_episodes)\n",
    "\n",
    "    for episodes in [1000, 2000, 4000]:\n",
    "        if amounts.shape[1] >= episodes:\n",
    "            cumulated = np.sum(amounts[:, :episodes], axis=1)\n",
    "            mean = int(np.mean(cumulated))\n",
    "            var = np.round(np.var(cumulated, ddof=1), 2)  # sample variance\n",
    "\n",
    "            results[\"Label\"].append(label)\n",
    "            results[\"Episodes\"].append(episodes)\n",
    "            results[\"Mean\"].append(mean)\n",
    "            #results[\"Variance\"].append(var)\n",
    "        else:\n",
    "            print(f\"{label} has fewer than {episodes} episodes. Skipping.\")\n",
    "\n",
    "        \n",
    "\n",
    "# Convert to DataFrame for pretty printing or export\n",
    "results_df = pd.DataFrame(results)\n",
    "results_df\n"
   ]
  },
  {
   "cell_type": "code",
   "execution_count": 2,
   "metadata": {},
   "outputs": [
    {
     "name": "stdout",
     "output_type": "stream",
     "text": [
      "../logs/anomaly/vae/2025-09-19T15-46-05.846486\n"
     ]
    },
    {
     "ename": "NameError",
     "evalue": "name 'Experiment' is not defined",
     "output_type": "error",
     "traceback": [
      "\u001b[31m---------------------------------------------------------------------------\u001b[39m",
      "\u001b[31mNameError\u001b[39m                                 Traceback (most recent call last)",
      "\u001b[36mCell\u001b[39m\u001b[36m \u001b[39m\u001b[32mIn[2]\u001b[39m\u001b[32m, line 23\u001b[39m\n\u001b[32m     21\u001b[39m \u001b[38;5;28;01mfor\u001b[39;00m label, logdir \u001b[38;5;129;01min\u001b[39;00m logdirs.items():\n\u001b[32m     22\u001b[39m     \u001b[38;5;28mprint\u001b[39m(logdir)\n\u001b[32m---> \u001b[39m\u001b[32m23\u001b[39m     exp = \u001b[43mExperiment\u001b[49m.load(logdir)\n\u001b[32m     24\u001b[39m     \u001b[38;5;28mprint\u001b[39m(\u001b[33mf\u001b[39m\u001b[33m\"\u001b[39m\u001b[33mThere are \u001b[39m\u001b[38;5;132;01m{\u001b[39;00mexp.n_runs\u001b[38;5;132;01m}\u001b[39;00m\u001b[33m runs in \u001b[39m\u001b[38;5;132;01m{\u001b[39;00mlabel\u001b[38;5;132;01m}\u001b[39;00m\u001b[33m\"\u001b[39m)\n\u001b[32m     25\u001b[39m     amounts = exp.amounts_over_time  \u001b[38;5;66;03m# shape: (n_runs, n_episodes)\u001b[39;00m\n",
      "\u001b[31mNameError\u001b[39m: name 'Experiment' is not defined"
     ]
    }
   ],
   "source": [
    "import numpy as np\n",
    "import pandas as pd\n",
    "import matplotlib.pyplot as plt\n",
    "import seaborn as sns\n",
    "\n",
    "# Dictionary to store results\n",
    "results = {\n",
    "    \"Label\": [],\n",
    "    \"Episodes\": [],\n",
    "    \"Mean\": [],\n",
    "    #\"Variance\": []\n",
    "}\n",
    "\n",
    "# Long-form storage for boxplots\n",
    "all_values = {\n",
    "    \"Label\": [],\n",
    "    \"Episodes\": [],\n",
    "    \"Value\": []\n",
    "}\n",
    "\n",
    "for label, logdir in logdirs.items():\n",
    "    print(logdir)\n",
    "    exp = Experiment.load(logdir)\n",
    "    print(f\"There are {exp.n_runs} runs in {label}\")\n",
    "    amounts = exp.amounts_over_time  # shape: (n_runs, n_episodes)\n",
    "\n",
    "    for episodes in [1000, 2000, 4000]:\n",
    "        if amounts.shape[1] >= episodes:\n",
    "            cumulated = np.sum(amounts[:, :episodes], axis=1)\n",
    "            mean = int(np.mean(cumulated))\n",
    "            var = np.round(np.var(cumulated, ddof=1), 2)  # sample variance\n",
    "\n",
    "            # Store summary stats\n",
    "            results[\"Label\"].append(label)\n",
    "            results[\"Episodes\"].append(episodes)\n",
    "            results[\"Mean\"].append(mean)\n",
    "            #results[\"Variance\"].append(var)\n",
    "\n",
    "            # Store all values for plotting\n",
    "            all_values[\"Label\"].extend([label] * len(cumulated))\n",
    "            all_values[\"Episodes\"].extend([episodes] * len(cumulated))\n",
    "            all_values[\"Value\"].extend(cumulated.tolist())\n",
    "        else:\n",
    "            print(f\"{label} has fewer than {episodes} episodes. Skipping.\")\n",
    "\n",
    "# Convert to DataFrames\n",
    "results_df = pd.DataFrame(results)\n",
    "all_values_df = pd.DataFrame(all_values)\n",
    "\n",
    "print(results_df)\n",
    "\n",
    "# --- Plot boxplots ---\n",
    "plt.figure(figsize=(10, 6))\n",
    "sns.boxplot(data=all_values_df, x=\"Episodes\", y=\"Value\", hue=\"Label\", showmeans=True, \n",
    "            showfliers=True, meanprops={\"markerfacecolor\": \"red\", \"markeredgecolor\": \"red\"},)\n",
    "plt.title(\"Distribution of Cumulative Rewards by Episodes and Label\")\n",
    "plt.ylabel(\"Cumulative Reward\")\n",
    "plt.xlabel(\"Episodes\")\n",
    "plt.legend(title=\"Label\")\n",
    "plt.show()\n"
   ]
  },
  {
   "cell_type": "code",
   "execution_count": null,
   "metadata": {},
   "outputs": [],
   "source": [
    "\n",
    "table_df = pd.DataFrame()\n",
    "\n",
    "for length in (1000, 2000, 4000):\n",
    "    for label in ['VAE', 'PPO', 'R-PPO']:\n",
    "        # Select the row in results_df where Episodes == length and Label == label\n",
    "        value = results_df.loc[\n",
    "            (results_df['Episodes'] == length) & (results_df['Label'] == label),\n",
    "            'Mean'\n",
    "        ].values[0]  # take the scalar\n",
    "\n",
    "        # Assign it to your new table_df\n",
    "        table_df.loc[label, length] = value\n",
    "table_df"
   ]
  },
  {
   "cell_type": "markdown",
   "metadata": {},
   "source": [
    "## Number of transactions per card over time"
   ]
  },
  {
   "cell_type": "code",
   "execution_count": null,
   "metadata": {},
   "outputs": [],
   "source": []
  },
  {
   "cell_type": "markdown",
   "metadata": {},
   "source": [
    "import matplotlib.pyplot as plt\n",
    "from plots import Experiment\n",
    "\n",
    "\n",
    "for label, logdir in logdirs.items():\n",
    "    exp = Experiment.load(logdir)\n",
    "    print(f\"There are {exp.n_runs} runs in {label}\")\n",
    "    data = exp.n_transactions_over_time\n",
    "    mean = np.mean(data, axis=0)\n",
    "    std = np.std(data, axis=0)\n",
    "    mean = moving_average(mean, window_size=100)[:-20]\n",
    "    std = moving_average(std, window_size=100)[:-20]\n",
    "    # Compute the 95% confidence interval from the STD\n",
    "    ci95 = 1.96 * (std / exp.n_runs**0.5)\n",
    "    plt.plot(mean, label=label)\n",
    "    plt.fill_between(range(len(mean)), mean - ci95, mean + ci95, alpha=0.5)\n",
    "\n",
    "plt.xlabel(\"Episode\")\n",
    "plt.ylabel(\"Number of transactions per card\")\n",
    "plt.legend()\n",
    "plt.savefig(\"n-transactions.svg\")"
   ]
  },
  {
   "cell_type": "markdown",
   "metadata": {},
   "source": [
    "experiment = Experiment.load(logdir)\n",
    "label, max(experiment.n_transactions_over_time[0])"
   ]
  },
  {
   "cell_type": "code",
   "execution_count": null,
   "metadata": {},
   "outputs": [],
   "source": [
    "exp.total_amounts"
   ]
  },
  {
   "cell_type": "markdown",
   "metadata": {},
   "source": [
    "## Total amount collected"
   ]
  },
  {
   "cell_type": "code",
   "execution_count": 10,
   "metadata": {
    "pycharm": {
     "is_executing": true
    }
   },
   "outputs": [
    {
     "name": "stderr",
     "output_type": "stream",
     "text": [
      "C:\\Users\\dalun\\AppData\\Local\\Temp\\ipykernel_31380\\2554115465.py:11: MatplotlibDeprecationWarning: The 'labels' parameter of boxplot() has been renamed 'tick_labels' since Matplotlib 3.9; support for the old name will be dropped in 3.11.\n",
      "  plt.boxplot(amounts, labels=labels, showmeans=True)\n"
     ]
    },
    {
     "data": {
      "image/png": "[encoded data removed]",
      "text/plain": [
       "<Figure size 640x480 with 1 Axes>"
      ]
     },
     "metadata": {},
     "output_type": "display_data"
    }
   ],
   "source": [
    "import matplotlib.pyplot as plt\n",
    "from plots import Experiment\n",
    "\n",
    "amounts = []\n",
    "labels = []\n",
    "for label, logdir in logdirs.items():\n",
    "    exp = Experiment.load(logdir)\n",
    "    amounts.append(exp.total_amounts)\n",
    "    labels.append(label)\n",
    "\n",
    "plt.boxplot(amounts, labels=labels, showmeans=True)\n",
    "plt.ylabel(\"Total amount collected over 4000 cards\")\n",
    "plt.xlabel(\"Algorithm\")\n",
    "#plt.grid(axis=\"y\")\n",
    "plt.ylim(bottom=0)  #0  1_000_000\n",
    "plt.savefig(\"boxplot-amounts_Anomaly.svg\")\n",
    "plt.show()\n"
   ]
  },
  {
   "cell_type": "markdown",
   "metadata": {
    "collapsed": false,
    "jupyter": {
     "outputs_hidden": false
    },
    "pycharm": {
     "is_executing": true
    }
   },
   "source": [
    "###### Plot amounts boxplots\n",
    "\n",
    "\n",
    "import matplotlib.pyplot as plt\n",
    "from plots import Experiment\n",
    "\n",
    "amounts = []\n",
    "labels = []\n",
    "for label, logdir in logdirs.items():\n",
    "    exp = Experiment.load(logdir)\n",
    "    amounts.append(exp.amounts_over_time)\n",
    "    print(amounts)\n",
    "    labels.append(label)\n",
    "\n",
    "plt.boxplot(amounts, labels=labels, showmeans=True)\n",
    "plt.ylabel(\"Total amount collected over 4000 cards\")\n",
    "plt.xlabel(\"Algorithm\")\n",
    "#plt.ylim(bottom=0)  # Set lower y-axis limit to 0\n",
    "plt.savefig(\"boxplot-amounts.svg\")\n",
    "plt.show()\n"
   ]
  },
  {
   "cell_type": "code",
   "execution_count": null,
   "metadata": {
    "collapsed": false,
    "jupyter": {
     "outputs_hidden": false
    }
   },
   "outputs": [],
   "source": [
    "exp.get_actions()"
   ]
  },
  {
   "cell_type": "code",
   "execution_count": null,
   "metadata": {},
   "outputs": [],
   "source": [
    "exp.amounts_over_time[0]"
   ]
  },
  {
   "cell_type": "code",
   "execution_count": null,
   "metadata": {},
   "outputs": [],
   "source": []
  },
  {
   "cell_type": "code",
   "execution_count": null,
   "metadata": {},
   "outputs": [],
   "source": []
  },
  {
   "cell_type": "code",
   "execution_count": null,
   "metadata": {},
   "outputs": [],
   "source": []
  },
  {
   "cell_type": "code",
   "execution_count": null,
   "metadata": {},
   "outputs": [],
   "source": []
  },
  {
   "cell_type": "code",
   "execution_count": null,
   "metadata": {},
   "outputs": [],
   "source": []
  },
  {
   "cell_type": "code",
   "execution_count": null,
   "metadata": {},
   "outputs": [],
   "source": []
  },
  {
   "cell_type": "code",
   "execution_count": null,
   "metadata": {},
   "outputs": [],
   "source": []
  }
 ],
 "metadata": {
  "kernelspec": {
   "display_name": "RL_Attack_September24",
   "language": "python",
   "name": "python3"
  },
  "language_info": {
   "codemirror_mode": {
    "name": "ipython",
    "version": 3
   },
   "file_extension": ".py",
   "mimetype": "text/x-python",
   "name": "python",
   "nbconvert_exporter": "python",
   "pygments_lexer": "ipython3",
   "version": "3.13.7"
  }
 },
 "nbformat": 4,
 "nbformat_minor": 4
}
