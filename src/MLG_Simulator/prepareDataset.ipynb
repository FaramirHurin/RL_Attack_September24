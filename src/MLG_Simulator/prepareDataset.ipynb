{
 "cells": [
  {
   "cell_type": "code",
   "execution_count": 1,
   "metadata": {
    "ExecuteTime": {
     "start_time": "2025-06-13T17:27:20.905679Z",
     "end_time": "2025-06-13T17:27:21.451904Z"
    }
   },
   "outputs": [],
   "source": [
    "import pickle as pk\n",
    "import os\n",
    "import numpy as np\n",
    "import pandas as pd"
   ]
  },
  {
   "cell_type": "code",
   "execution_count": 2,
   "metadata": {
    "ExecuteTime": {
     "start_time": "2025-06-13T17:27:24.158210Z",
     "end_time": "2025-06-13T17:27:24.174247Z"
    },
    "collapsed": false,
    "jupyter": {
     "outputs_hidden": false
    }
   },
   "outputs": [],
   "source": [
    "transactions_df = None"
   ]
  },
  {
   "cell_type": "code",
   "execution_count": 3,
   "metadata": {
    "ExecuteTime": {
     "start_time": "2025-06-13T17:27:24.415510Z",
     "end_time": "2025-06-13T17:28:16.031871Z"
    },
    "collapsed": false,
    "jupyter": {
     "outputs_hidden": false
    }
   },
   "outputs": [],
   "source": [
    "directory = 'simulated-data-raw/'\n",
    "\n",
    "for file in os.listdir(directory):\n",
    "    if file.endswith('.pkl') and file.startswith('2018'):\n",
    "        filepath = os.path.join(directory, file)\n",
    "        with open(filepath, 'rb') as f:\n",
    "            data = pk.load(f)\n",
    "        if transactions_df is None:\n",
    "            transactions_df = data\n",
    "        else:\n",
    "            transactions_df = pd.concat([transactions_df, data], ignore_index=True)\n",
    "\n",
    "\n",
    "#pk.load(open('simulated-data-raw/2018-09-22.pkl', 'rb'))"
   ]
  },
  {
   "cell_type": "code",
   "execution_count": 4,
   "metadata": {
    "ExecuteTime": {
     "start_time": "2025-06-13T17:28:16.032985Z",
     "end_time": "2025-06-13T17:28:16.083552Z"
    },
    "collapsed": false,
    "jupyter": {
     "outputs_hidden": false
    }
   },
   "outputs": [
    {
     "data": {
      "text/plain": "   TRANSACTION_ID         TX_DATETIME CUSTOMER_ID TERMINAL_ID  TX_AMOUNT  \\\n0               0 2018-04-01 00:00:11       19752       35415      41.55   \n1               1 2018-04-01 00:00:17        6160       11302      31.83   \n2               2 2018-04-01 00:00:28       14208       15475      73.08   \n3               3 2018-04-01 00:00:31         596       15978      57.16   \n4               4 2018-04-01 00:00:32       11839       15655     136.62   \n\n  TX_TIME_SECONDS TX_TIME_DAYS  TX_FRAUD  TX_FRAUD_SCENARIO  \n0              11            0         0                  0  \n1              17            0         0                  0  \n2              28            0         0                  0  \n3              31            0         0                  0  \n4              32            0         0                  0  ",
      "text/html": "<div>\n<style scoped>\n    .dataframe tbody tr th:only-of-type {\n        vertical-align: middle;\n    }\n\n    .dataframe tbody tr th {\n        vertical-align: top;\n    }\n\n    .dataframe thead th {\n        text-align: right;\n    }\n</style>\n<table border=\"1\" class=\"dataframe\">\n  <thead>\n    <tr style=\"text-align: right;\">\n      <th></th>\n      <th>TRANSACTION_ID</th>\n      <th>TX_DATETIME</th>\n      <th>CUSTOMER_ID</th>\n      <th>TERMINAL_ID</th>\n      <th>TX_AMOUNT</th>\n      <th>TX_TIME_SECONDS</th>\n      <th>TX_TIME_DAYS</th>\n      <th>TX_FRAUD</th>\n      <th>TX_FRAUD_SCENARIO</th>\n    </tr>\n  </thead>\n  <tbody>\n    <tr>\n      <th>0</th>\n      <td>0</td>\n      <td>2018-04-01 00:00:11</td>\n      <td>19752</td>\n      <td>35415</td>\n      <td>41.55</td>\n      <td>11</td>\n      <td>0</td>\n      <td>0</td>\n      <td>0</td>\n    </tr>\n    <tr>\n      <th>1</th>\n      <td>1</td>\n      <td>2018-04-01 00:00:17</td>\n      <td>6160</td>\n      <td>11302</td>\n      <td>31.83</td>\n      <td>17</td>\n      <td>0</td>\n      <td>0</td>\n      <td>0</td>\n    </tr>\n    <tr>\n      <th>2</th>\n      <td>2</td>\n      <td>2018-04-01 00:00:28</td>\n      <td>14208</td>\n      <td>15475</td>\n      <td>73.08</td>\n      <td>28</td>\n      <td>0</td>\n      <td>0</td>\n      <td>0</td>\n    </tr>\n    <tr>\n      <th>3</th>\n      <td>3</td>\n      <td>2018-04-01 00:00:31</td>\n      <td>596</td>\n      <td>15978</td>\n      <td>57.16</td>\n      <td>31</td>\n      <td>0</td>\n      <td>0</td>\n      <td>0</td>\n    </tr>\n    <tr>\n      <th>4</th>\n      <td>4</td>\n      <td>2018-04-01 00:00:32</td>\n      <td>11839</td>\n      <td>15655</td>\n      <td>136.62</td>\n      <td>32</td>\n      <td>0</td>\n      <td>0</td>\n      <td>0</td>\n    </tr>\n  </tbody>\n</table>\n</div>"
     },
     "execution_count": 4,
     "metadata": {},
     "output_type": "execute_result"
    }
   ],
   "source": [
    "transactions_df.head()"
   ]
  },
  {
   "cell_type": "code",
   "execution_count": 5,
   "metadata": {
    "ExecuteTime": {
     "start_time": "2025-06-13T17:28:16.063753Z",
     "end_time": "2025-06-13T17:28:16.293050Z"
    },
    "collapsed": false,
    "jupyter": {
     "outputs_hidden": false
    }
   },
   "outputs": [],
   "source": [
    "# Rename columns\n",
    "transactions_df.rename(columns={\n",
    "    'CUSTOMER_ID': 'card_id' ,\n",
    "    'TERMINAL_ID': 'terminal_id',\n",
    "    'TX_FRAUD': 'is_fraud',\n",
    "    'TX_AMOUNT': 'amount',\n",
    "    # 'TX_TIME_DAYS': 'day_index',\n",
    "    'TX_DATETIME': 'timestamp',\n",
    "}, inplace=True)\n",
    "\n",
    "transactions_df.drop(['TX_FRAUD_SCENARIO', 'TRANSACTION_ID', 'TX_TIME_SECONDS', 'TX_TIME_DAYS'], axis=1, inplace=True)\n",
    "transactions_df['is_online'] = np.zeros(transactions_df.shape[0])"
   ]
  },
  {
   "cell_type": "code",
   "execution_count": 6,
   "metadata": {
    "ExecuteTime": {
     "start_time": "2025-06-13T17:28:16.296044Z",
     "end_time": "2025-06-13T17:28:16.307782Z"
    }
   },
   "outputs": [
    {
     "data": {
      "text/plain": "            timestamp card_id terminal_id  amount  is_fraud  is_online\n0 2018-04-01 00:00:11   19752       35415   41.55         0        0.0\n1 2018-04-01 00:00:17    6160       11302   31.83         0        0.0\n2 2018-04-01 00:00:28   14208       15475   73.08         0        0.0\n3 2018-04-01 00:00:31     596       15978   57.16         0        0.0\n4 2018-04-01 00:00:32   11839       15655  136.62         0        0.0",
      "text/html": "<div>\n<style scoped>\n    .dataframe tbody tr th:only-of-type {\n        vertical-align: middle;\n    }\n\n    .dataframe tbody tr th {\n        vertical-align: top;\n    }\n\n    .dataframe thead th {\n        text-align: right;\n    }\n</style>\n<table border=\"1\" class=\"dataframe\">\n  <thead>\n    <tr style=\"text-align: right;\">\n      <th></th>\n      <th>timestamp</th>\n      <th>card_id</th>\n      <th>terminal_id</th>\n      <th>amount</th>\n      <th>is_fraud</th>\n      <th>is_online</th>\n    </tr>\n  </thead>\n  <tbody>\n    <tr>\n      <th>0</th>\n      <td>2018-04-01 00:00:11</td>\n      <td>19752</td>\n      <td>35415</td>\n      <td>41.55</td>\n      <td>0</td>\n      <td>0.0</td>\n    </tr>\n    <tr>\n      <th>1</th>\n      <td>2018-04-01 00:00:17</td>\n      <td>6160</td>\n      <td>11302</td>\n      <td>31.83</td>\n      <td>0</td>\n      <td>0.0</td>\n    </tr>\n    <tr>\n      <th>2</th>\n      <td>2018-04-01 00:00:28</td>\n      <td>14208</td>\n      <td>15475</td>\n      <td>73.08</td>\n      <td>0</td>\n      <td>0.0</td>\n    </tr>\n    <tr>\n      <th>3</th>\n      <td>2018-04-01 00:00:31</td>\n      <td>596</td>\n      <td>15978</td>\n      <td>57.16</td>\n      <td>0</td>\n      <td>0.0</td>\n    </tr>\n    <tr>\n      <th>4</th>\n      <td>2018-04-01 00:00:32</td>\n      <td>11839</td>\n      <td>15655</td>\n      <td>136.62</td>\n      <td>0</td>\n      <td>0.0</td>\n    </tr>\n  </tbody>\n</table>\n</div>"
     },
     "execution_count": 6,
     "metadata": {},
     "output_type": "execute_result"
    }
   ],
   "source": [
    "transactions_df.head()"
   ]
  },
  {
   "cell_type": "code",
   "execution_count": 6,
   "metadata": {
    "ExecuteTime": {
     "start_time": "2025-06-13T17:28:16.308787Z",
     "end_time": "2025-06-13T17:28:16.344440Z"
    }
   },
   "outputs": [],
   "source": []
  },
  {
   "cell_type": "code",
   "execution_count": 7,
   "metadata": {
    "ExecuteTime": {
     "start_time": "2025-06-13T17:28:16.323736Z",
     "end_time": "2025-06-13T17:28:23.582104Z"
    }
   },
   "outputs": [
    {
     "name": "stderr",
     "output_type": "stream",
     "text": [
      "C:\\Users\\dalun\\AppData\\Local\\Temp\\ipykernel_2716\\2611337306.py:3: FutureWarning: The behavior of DatetimeProperties.to_pydatetime is deprecated, in a future version this will return a Series containing python datetime objects instead of an ndarray. To retain the old behavior, call `np.array` on the result\n",
      "  transactions_df['timestamp'] = transactions_df['timestamp'].dt.to_pydatetime()\n"
     ]
    }
   ],
   "source": [
    "import datetime\n",
    "\n",
    "transactions_df['timestamp'] = transactions_df['timestamp'].dt.to_pydatetime()\n",
    "\n"
   ]
  },
  {
   "cell_type": "code",
   "execution_count": 8,
   "metadata": {
    "ExecuteTime": {
     "start_time": "2025-06-13T17:28:23.584254Z",
     "end_time": "2025-06-13T17:28:23.992624Z"
    },
    "collapsed": false,
    "jupyter": {
     "outputs_hidden": false
    }
   },
   "outputs": [],
   "source": [
    "with open('simulated-data-raw/customer_profiles_table.pkl', 'rb') as f:\n",
    "    customer_profiles_table = pk.load(f)\n",
    "\n",
    "with open('simulated-data-raw/terminal_profiles_table.pkl', 'rb') as f:\n",
    "    terminal_profiles_table = pk.load(f)"
   ]
  },
  {
   "cell_type": "code",
   "execution_count": 9,
   "metadata": {
    "ExecuteTime": {
     "start_time": "2025-06-13T17:28:23.987759Z",
     "end_time": "2025-06-13T17:28:24.032095Z"
    }
   },
   "outputs": [
    {
     "data": {
      "text/plain": "       CUSTOMER_ID  x_customer_id  y_customer_id  mean_amount  std_amount  \\\n0                0     109.762701     143.037873    62.262521   31.131260   \n1                1      84.730960     129.178823    46.570785   23.285393   \n2                2     192.732552      76.688304    80.213879   40.106939   \n3                3     113.608912     185.119328    11.748426    5.874213   \n4                4       4.043679     166.523969    78.924891   39.462446   \n...            ...            ...            ...          ...         ...   \n19995        19995     124.291148     101.500964    51.721364   25.860682   \n19996        19996     169.471429      67.720102    13.779435    6.889718   \n19997        19997       2.785287     126.877808    77.706479   38.853239   \n19998        19998      85.093332     135.571292    23.030211   11.515105   \n19999        19999     169.030555     156.824623    63.829208   31.914604   \n\n       mean_nb_tx_per_day                                available_terminals  \\\n0                2.179533  [1067, 1536, 1699, 2007, 3028, 3246, 3457, 367...   \n1                3.567092  [2443, 2641, 2650, 2859, 3258, 5159, 5385, 567...   \n2                2.115580  [447, 1318, 2149, 2374, 2586, 3598, 3876, 4385...   \n3                0.348517  [364, 433, 772, 925, 1924, 2338, 3710, 4077, 4...   \n4                3.480049  [372, 614, 1362, 1564, 1637, 1939, 3205, 3279,...   \n...                   ...                                                ...   \n19995            2.192022  [532, 1994, 2895, 3002, 3809, 4113, 4567, 4630...   \n19996            1.891497  [132, 773, 867, 1256, 1293, 2781, 3391, 3908, ...   \n19997            1.475556  [49, 1787, 2113, 2972, 3249, 3764, 4527, 8199,...   \n19998            0.553780  [5, 378, 571, 943, 1460, 2443, 2459, 2828, 325...   \n19999            0.630116  [1506, 1671, 2048, 2886, 2893, 2935, 4169, 470...   \n\n       nb_terminals  \n0                77  \n1                74  \n2                65  \n3                98  \n4                88  \n...             ...  \n19995            78  \n19996            89  \n19997            59  \n19998            82  \n19999            83  \n\n[20000 rows x 8 columns]",
      "text/html": "<div>\n<style scoped>\n    .dataframe tbody tr th:only-of-type {\n        vertical-align: middle;\n    }\n\n    .dataframe tbody tr th {\n        vertical-align: top;\n    }\n\n    .dataframe thead th {\n        text-align: right;\n    }\n</style>\n<table border=\"1\" class=\"dataframe\">\n  <thead>\n    <tr style=\"text-align: right;\">\n      <th></th>\n      <th>CUSTOMER_ID</th>\n      <th>x_customer_id</th>\n      <th>y_customer_id</th>\n      <th>mean_amount</th>\n      <th>std_amount</th>\n      <th>mean_nb_tx_per_day</th>\n      <th>available_terminals</th>\n      <th>nb_terminals</th>\n    </tr>\n  </thead>\n  <tbody>\n    <tr>\n      <th>0</th>\n      <td>0</td>\n      <td>109.762701</td>\n      <td>143.037873</td>\n      <td>62.262521</td>\n      <td>31.131260</td>\n      <td>2.179533</td>\n      <td>[1067, 1536, 1699, 2007, 3028, 3246, 3457, 367...</td>\n      <td>77</td>\n    </tr>\n    <tr>\n      <th>1</th>\n      <td>1</td>\n      <td>84.730960</td>\n      <td>129.178823</td>\n      <td>46.570785</td>\n      <td>23.285393</td>\n      <td>3.567092</td>\n      <td>[2443, 2641, 2650, 2859, 3258, 5159, 5385, 567...</td>\n      <td>74</td>\n    </tr>\n    <tr>\n      <th>2</th>\n      <td>2</td>\n      <td>192.732552</td>\n      <td>76.688304</td>\n      <td>80.213879</td>\n      <td>40.106939</td>\n      <td>2.115580</td>\n      <td>[447, 1318, 2149, 2374, 2586, 3598, 3876, 4385...</td>\n      <td>65</td>\n    </tr>\n    <tr>\n      <th>3</th>\n      <td>3</td>\n      <td>113.608912</td>\n      <td>185.119328</td>\n      <td>11.748426</td>\n      <td>5.874213</td>\n      <td>0.348517</td>\n      <td>[364, 433, 772, 925, 1924, 2338, 3710, 4077, 4...</td>\n      <td>98</td>\n    </tr>\n    <tr>\n      <th>4</th>\n      <td>4</td>\n      <td>4.043679</td>\n      <td>166.523969</td>\n      <td>78.924891</td>\n      <td>39.462446</td>\n      <td>3.480049</td>\n      <td>[372, 614, 1362, 1564, 1637, 1939, 3205, 3279,...</td>\n      <td>88</td>\n    </tr>\n    <tr>\n      <th>...</th>\n      <td>...</td>\n      <td>...</td>\n      <td>...</td>\n      <td>...</td>\n      <td>...</td>\n      <td>...</td>\n      <td>...</td>\n      <td>...</td>\n    </tr>\n    <tr>\n      <th>19995</th>\n      <td>19995</td>\n      <td>124.291148</td>\n      <td>101.500964</td>\n      <td>51.721364</td>\n      <td>25.860682</td>\n      <td>2.192022</td>\n      <td>[532, 1994, 2895, 3002, 3809, 4113, 4567, 4630...</td>\n      <td>78</td>\n    </tr>\n    <tr>\n      <th>19996</th>\n      <td>19996</td>\n      <td>169.471429</td>\n      <td>67.720102</td>\n      <td>13.779435</td>\n      <td>6.889718</td>\n      <td>1.891497</td>\n      <td>[132, 773, 867, 1256, 1293, 2781, 3391, 3908, ...</td>\n      <td>89</td>\n    </tr>\n    <tr>\n      <th>19997</th>\n      <td>19997</td>\n      <td>2.785287</td>\n      <td>126.877808</td>\n      <td>77.706479</td>\n      <td>38.853239</td>\n      <td>1.475556</td>\n      <td>[49, 1787, 2113, 2972, 3249, 3764, 4527, 8199,...</td>\n      <td>59</td>\n    </tr>\n    <tr>\n      <th>19998</th>\n      <td>19998</td>\n      <td>85.093332</td>\n      <td>135.571292</td>\n      <td>23.030211</td>\n      <td>11.515105</td>\n      <td>0.553780</td>\n      <td>[5, 378, 571, 943, 1460, 2443, 2459, 2828, 325...</td>\n      <td>82</td>\n    </tr>\n    <tr>\n      <th>19999</th>\n      <td>19999</td>\n      <td>169.030555</td>\n      <td>156.824623</td>\n      <td>63.829208</td>\n      <td>31.914604</td>\n      <td>0.630116</td>\n      <td>[1506, 1671, 2048, 2886, 2893, 2935, 4169, 470...</td>\n      <td>83</td>\n    </tr>\n  </tbody>\n</table>\n<p>20000 rows × 8 columns</p>\n</div>"
     },
     "execution_count": 9,
     "metadata": {},
     "output_type": "execute_result"
    }
   ],
   "source": [
    "customer_profiles_table"
   ]
  },
  {
   "cell_type": "code",
   "execution_count": 10,
   "metadata": {
    "ExecuteTime": {
     "start_time": "2025-06-13T17:28:24.019909Z",
     "end_time": "2025-06-13T17:28:24.121463Z"
    },
    "collapsed": false,
    "jupyter": {
     "outputs_hidden": false
    }
   },
   "outputs": [
    {
     "data": {
      "text/plain": "   CUSTOMER_ID  x_customer_id  y_customer_id  mean_amount  std_amount  \\\n0            0          110.0          143.0    62.262521   31.131260   \n1            1           85.0          129.0    46.570785   23.285393   \n2            2          193.0           77.0    80.213879   40.106939   \n3            3          114.0          185.0    11.748426    5.874213   \n4            4            4.0          167.0    78.924891   39.462446   \n\n   mean_nb_tx_per_day                                available_terminals  \\\n0            2.179533  [1067, 1536, 1699, 2007, 3028, 3246, 3457, 367...   \n1            3.567092  [2443, 2641, 2650, 2859, 3258, 5159, 5385, 567...   \n2            2.115580  [447, 1318, 2149, 2374, 2586, 3598, 3876, 4385...   \n3            0.348517  [364, 433, 772, 925, 1924, 2338, 3710, 4077, 4...   \n4            3.480049  [372, 614, 1362, 1564, 1637, 1939, 3205, 3279,...   \n\n   nb_terminals   balance  \n0            77   8142.19  \n1            74   9967.34  \n2            65  10181.93  \n3            98    245.67  \n4            88  16479.75  ",
      "text/html": "<div>\n<style scoped>\n    .dataframe tbody tr th:only-of-type {\n        vertical-align: middle;\n    }\n\n    .dataframe tbody tr th {\n        vertical-align: top;\n    }\n\n    .dataframe thead th {\n        text-align: right;\n    }\n</style>\n<table border=\"1\" class=\"dataframe\">\n  <thead>\n    <tr style=\"text-align: right;\">\n      <th></th>\n      <th>CUSTOMER_ID</th>\n      <th>x_customer_id</th>\n      <th>y_customer_id</th>\n      <th>mean_amount</th>\n      <th>std_amount</th>\n      <th>mean_nb_tx_per_day</th>\n      <th>available_terminals</th>\n      <th>nb_terminals</th>\n      <th>balance</th>\n    </tr>\n  </thead>\n  <tbody>\n    <tr>\n      <th>0</th>\n      <td>0</td>\n      <td>110.0</td>\n      <td>143.0</td>\n      <td>62.262521</td>\n      <td>31.131260</td>\n      <td>2.179533</td>\n      <td>[1067, 1536, 1699, 2007, 3028, 3246, 3457, 367...</td>\n      <td>77</td>\n      <td>8142.19</td>\n    </tr>\n    <tr>\n      <th>1</th>\n      <td>1</td>\n      <td>85.0</td>\n      <td>129.0</td>\n      <td>46.570785</td>\n      <td>23.285393</td>\n      <td>3.567092</td>\n      <td>[2443, 2641, 2650, 2859, 3258, 5159, 5385, 567...</td>\n      <td>74</td>\n      <td>9967.34</td>\n    </tr>\n    <tr>\n      <th>2</th>\n      <td>2</td>\n      <td>193.0</td>\n      <td>77.0</td>\n      <td>80.213879</td>\n      <td>40.106939</td>\n      <td>2.115580</td>\n      <td>[447, 1318, 2149, 2374, 2586, 3598, 3876, 4385...</td>\n      <td>65</td>\n      <td>10181.93</td>\n    </tr>\n    <tr>\n      <th>3</th>\n      <td>3</td>\n      <td>114.0</td>\n      <td>185.0</td>\n      <td>11.748426</td>\n      <td>5.874213</td>\n      <td>0.348517</td>\n      <td>[364, 433, 772, 925, 1924, 2338, 3710, 4077, 4...</td>\n      <td>98</td>\n      <td>245.67</td>\n    </tr>\n    <tr>\n      <th>4</th>\n      <td>4</td>\n      <td>4.0</td>\n      <td>167.0</td>\n      <td>78.924891</td>\n      <td>39.462446</td>\n      <td>3.480049</td>\n      <td>[372, 614, 1362, 1564, 1637, 1939, 3205, 3279,...</td>\n      <td>88</td>\n      <td>16479.75</td>\n    </tr>\n  </tbody>\n</table>\n</div>"
     },
     "execution_count": 10,
     "metadata": {},
     "output_type": "execute_result"
    }
   ],
   "source": [
    "customer_profiles_table['x_customer_id'] = np.round(customer_profiles_table['x_customer_id'])\n",
    "customer_profiles_table['y_customer_id'] = np.round(customer_profiles_table['y_customer_id'])\n",
    "\n",
    "customer_profiles_table['balance'] = (customer_profiles_table['mean_amount'] * customer_profiles_table['mean_nb_tx_per_day'] * 60).round(2)\n",
    "\n",
    "customer_profiles_table.head()"
   ]
  },
  {
   "cell_type": "code",
   "execution_count": 11,
   "metadata": {
    "ExecuteTime": {
     "start_time": "2025-06-13T17:28:24.052229Z",
     "end_time": "2025-06-13T17:28:24.145986Z"
    }
   },
   "outputs": [
    {
     "data": {
      "text/plain": "   TERMINAL_ID  x_terminal_id  y_terminal_id\n0            0           83.0          144.0\n1            1            0.0           60.0\n2            2           29.0           18.0\n3            3           37.0           69.0\n4            4           79.0          108.0",
      "text/html": "<div>\n<style scoped>\n    .dataframe tbody tr th:only-of-type {\n        vertical-align: middle;\n    }\n\n    .dataframe tbody tr th {\n        vertical-align: top;\n    }\n\n    .dataframe thead th {\n        text-align: right;\n    }\n</style>\n<table border=\"1\" class=\"dataframe\">\n  <thead>\n    <tr style=\"text-align: right;\">\n      <th></th>\n      <th>TERMINAL_ID</th>\n      <th>x_terminal_id</th>\n      <th>y_terminal_id</th>\n    </tr>\n  </thead>\n  <tbody>\n    <tr>\n      <th>0</th>\n      <td>0</td>\n      <td>83.0</td>\n      <td>144.0</td>\n    </tr>\n    <tr>\n      <th>1</th>\n      <td>1</td>\n      <td>0.0</td>\n      <td>60.0</td>\n    </tr>\n    <tr>\n      <th>2</th>\n      <td>2</td>\n      <td>29.0</td>\n      <td>18.0</td>\n    </tr>\n    <tr>\n      <th>3</th>\n      <td>3</td>\n      <td>37.0</td>\n      <td>69.0</td>\n    </tr>\n    <tr>\n      <th>4</th>\n      <td>4</td>\n      <td>79.0</td>\n      <td>108.0</td>\n    </tr>\n  </tbody>\n</table>\n</div>"
     },
     "execution_count": 11,
     "metadata": {},
     "output_type": "execute_result"
    }
   ],
   "source": [
    "terminal_profiles_table['x_terminal_id'] = np.round(terminal_profiles_table['x_terminal_id'])\n",
    "terminal_profiles_table['y_terminal_id'] = np.round(terminal_profiles_table['y_terminal_id'])\n",
    "\n",
    "terminal_profiles_table.head()"
   ]
  },
  {
   "cell_type": "code",
   "execution_count": 12,
   "metadata": {
    "ExecuteTime": {
     "start_time": "2025-06-13T17:28:24.065741Z",
     "end_time": "2025-06-13T17:28:24.146987Z"
    },
    "collapsed": false,
    "jupyter": {
     "outputs_hidden": false
    }
   },
   "outputs": [],
   "source": [
    "customer_profiles_table.rename(columns={\n",
    "    'CUSTOMER_ID': 'id',\n",
    "    'x_customer_id': 'x',\n",
    "    'y_customer_id': 'y',\n",
    "}, inplace=True)\n",
    "\n",
    "terminal_profiles_table.rename(columns={\n",
    "    'TERMINAL_ID': 'id',\n",
    "    'x_terminal_id': 'x',\n",
    "    'y_terminal_id': 'y',\n",
    "}, inplace=True)\n",
    "\n",
    "customer_profiles_table = customer_profiles_table[['id', 'x', 'y', 'balance']]\n",
    "terminal_profiles_table = terminal_profiles_table[['id', 'x', 'y']]"
   ]
  },
  {
   "cell_type": "code",
   "execution_count": 13,
   "metadata": {
    "ExecuteTime": {
     "start_time": "2025-06-13T17:28:24.081122Z",
     "end_time": "2025-06-13T17:28:50.208598Z"
    },
    "collapsed": false,
    "jupyter": {
     "outputs_hidden": false
    }
   },
   "outputs": [],
   "source": [
    "# Save the processed dataframes\n",
    "transactions_df.to_csv('transactions.csv', index=False)\n",
    "customer_profiles_table.to_csv('customer_profiles.csv', index=False)\n",
    "terminal_profiles_table.to_csv('terminal_profiles.csv', index=False)"
   ]
  },
  {
   "cell_type": "code",
   "execution_count": 13,
   "metadata": {
    "ExecuteTime": {
     "start_time": "2025-06-13T17:28:50.209960Z",
     "end_time": "2025-06-13T17:28:50.223084Z"
    },
    "collapsed": false,
    "jupyter": {
     "outputs_hidden": false
    }
   },
   "outputs": [],
   "source": []
  },
  {
   "cell_type": "code",
   "execution_count": 14,
   "metadata": {
    "ExecuteTime": {
     "start_time": "2025-06-13T17:28:50.224087Z",
     "end_time": "2025-06-13T17:28:50.255655Z"
    },
    "collapsed": false,
    "jupyter": {
     "outputs_hidden": false
    }
   },
   "outputs": [
    {
     "data": {
      "text/plain": "            timestamp card_id terminal_id  amount  is_fraud  is_online\n0 2018-04-01 00:00:11   19752       35415   41.55         0        0.0\n1 2018-04-01 00:00:17    6160       11302   31.83         0        0.0\n2 2018-04-01 00:00:28   14208       15475   73.08         0        0.0\n3 2018-04-01 00:00:31     596       15978   57.16         0        0.0\n4 2018-04-01 00:00:32   11839       15655  136.62         0        0.0",
      "text/html": "<div>\n<style scoped>\n    .dataframe tbody tr th:only-of-type {\n        vertical-align: middle;\n    }\n\n    .dataframe tbody tr th {\n        vertical-align: top;\n    }\n\n    .dataframe thead th {\n        text-align: right;\n    }\n</style>\n<table border=\"1\" class=\"dataframe\">\n  <thead>\n    <tr style=\"text-align: right;\">\n      <th></th>\n      <th>timestamp</th>\n      <th>card_id</th>\n      <th>terminal_id</th>\n      <th>amount</th>\n      <th>is_fraud</th>\n      <th>is_online</th>\n    </tr>\n  </thead>\n  <tbody>\n    <tr>\n      <th>0</th>\n      <td>2018-04-01 00:00:11</td>\n      <td>19752</td>\n      <td>35415</td>\n      <td>41.55</td>\n      <td>0</td>\n      <td>0.0</td>\n    </tr>\n    <tr>\n      <th>1</th>\n      <td>2018-04-01 00:00:17</td>\n      <td>6160</td>\n      <td>11302</td>\n      <td>31.83</td>\n      <td>0</td>\n      <td>0.0</td>\n    </tr>\n    <tr>\n      <th>2</th>\n      <td>2018-04-01 00:00:28</td>\n      <td>14208</td>\n      <td>15475</td>\n      <td>73.08</td>\n      <td>0</td>\n      <td>0.0</td>\n    </tr>\n    <tr>\n      <th>3</th>\n      <td>2018-04-01 00:00:31</td>\n      <td>596</td>\n      <td>15978</td>\n      <td>57.16</td>\n      <td>0</td>\n      <td>0.0</td>\n    </tr>\n    <tr>\n      <th>4</th>\n      <td>2018-04-01 00:00:32</td>\n      <td>11839</td>\n      <td>15655</td>\n      <td>136.62</td>\n      <td>0</td>\n      <td>0.0</td>\n    </tr>\n  </tbody>\n</table>\n</div>"
     },
     "execution_count": 14,
     "metadata": {},
     "output_type": "execute_result"
    }
   ],
   "source": [
    "transactions_df.head()"
   ]
  },
  {
   "cell_type": "code",
   "execution_count": 15,
   "metadata": {
    "collapsed": false,
    "jupyter": {
     "outputs_hidden": false
    },
    "ExecuteTime": {
     "start_time": "2025-06-13T17:28:50.239188Z",
     "end_time": "2025-06-13T17:28:50.299032Z"
    }
   },
   "outputs": [
    {
     "data": {
      "text/plain": "   id      x      y   balance\n0   0  110.0  143.0   8142.19\n1   1   85.0  129.0   9967.34\n2   2  193.0   77.0  10181.93\n3   3  114.0  185.0    245.67\n4   4    4.0  167.0  16479.75",
      "text/html": "<div>\n<style scoped>\n    .dataframe tbody tr th:only-of-type {\n        vertical-align: middle;\n    }\n\n    .dataframe tbody tr th {\n        vertical-align: top;\n    }\n\n    .dataframe thead th {\n        text-align: right;\n    }\n</style>\n<table border=\"1\" class=\"dataframe\">\n  <thead>\n    <tr style=\"text-align: right;\">\n      <th></th>\n      <th>id</th>\n      <th>x</th>\n      <th>y</th>\n      <th>balance</th>\n    </tr>\n  </thead>\n  <tbody>\n    <tr>\n      <th>0</th>\n      <td>0</td>\n      <td>110.0</td>\n      <td>143.0</td>\n      <td>8142.19</td>\n    </tr>\n    <tr>\n      <th>1</th>\n      <td>1</td>\n      <td>85.0</td>\n      <td>129.0</td>\n      <td>9967.34</td>\n    </tr>\n    <tr>\n      <th>2</th>\n      <td>2</td>\n      <td>193.0</td>\n      <td>77.0</td>\n      <td>10181.93</td>\n    </tr>\n    <tr>\n      <th>3</th>\n      <td>3</td>\n      <td>114.0</td>\n      <td>185.0</td>\n      <td>245.67</td>\n    </tr>\n    <tr>\n      <th>4</th>\n      <td>4</td>\n      <td>4.0</td>\n      <td>167.0</td>\n      <td>16479.75</td>\n    </tr>\n  </tbody>\n</table>\n</div>"
     },
     "execution_count": 15,
     "metadata": {},
     "output_type": "execute_result"
    }
   ],
   "source": [
    "customer_profiles_table.head()"
   ]
  },
  {
   "cell_type": "code",
   "execution_count": 16,
   "metadata": {
    "ExecuteTime": {
     "start_time": "2025-06-13T17:28:50.257656Z",
     "end_time": "2025-06-13T17:28:51.305021Z"
    }
   },
   "outputs": [
    {
     "data": {
      "text/plain": "(19999, 19999, 39999, 39999)"
     },
     "execution_count": 16,
     "metadata": {},
     "output_type": "execute_result"
    }
   ],
   "source": [
    "max(transactions_df['card_id']), max(customer_profiles_table['id']), max(transactions_df['terminal_id']), max(terminal_profiles_table['id'])"
   ]
  },
  {
   "cell_type": "code",
   "execution_count": 16,
   "metadata": {
    "ExecuteTime": {
     "start_time": "2025-06-13T17:28:51.305021Z",
     "end_time": "2025-06-13T17:28:51.348561Z"
    }
   },
   "outputs": [],
   "source": []
  },
  {
   "cell_type": "code",
   "execution_count": 16,
   "outputs": [],
   "source": [],
   "metadata": {
    "collapsed": false,
    "ExecuteTime": {
     "start_time": "2025-06-13T17:28:51.320561Z",
     "end_time": "2025-06-13T17:28:51.351711Z"
    }
   }
  },
  {
   "cell_type": "code",
   "execution_count": null,
   "outputs": [],
   "source": [],
   "metadata": {
    "collapsed": false
   }
  }
 ],
 "metadata": {
  "kernelspec": {
   "display_name": "Python 3 (ipykernel)",
   "language": "python",
   "name": "python3"
  },
  "language_info": {
   "codemirror_mode": {
    "name": "ipython",
    "version": 3
   },
   "file_extension": ".py",
   "mimetype": "text/x-python",
   "name": "python",
   "nbconvert_exporter": "python",
   "pygments_lexer": "ipython3",
   "version": "3.10.1"
  }
 },
 "nbformat": 4,
 "nbformat_minor": 4
}
